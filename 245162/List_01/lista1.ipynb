{
 "cells": [
  {
   "cell_type": "markdown",
   "metadata": {},
   "source": [
    "# Lista 1\n",
    "\n",
    "## Kurs wybranego języka programowania (Python)\n",
    "\n",
    "Wszystkie rozwiązania proszę wpisać w tym notatniku poniżej treści zadań. Zadania z `*` to zadania dodatkowe."
   ]
  },
  {
   "cell_type": "markdown",
   "metadata": {},
   "source": [
    "## Zadanie 1 _(5pt)_\n",
    "\n",
    "Napisz funkcję, który wyświetla trójkąt Pascala o zadanej wysokości\n",
    "```\n",
    "                1\n",
    "              1   1\n",
    "            1   2   1\n",
    "          1   3   3   1\n",
    "        1   4   6   4   1\n",
    "      .....................\n",
    "```"
   ]
  },
  {
   "cell_type": "code",
   "execution_count": 3,
   "metadata": {
    "pycharm": {
     "is_executing": false
    }
   },
   "outputs": [],
   "source": [
    "from math import floor\n",
    "import scipy.special\n",
    "\n",
    "\n",
    "def pascal_triangle(n):\n",
    "    for x in range(n):\n",
    "        print(2*(n - x + 1) * ' ', end='')\n",
    "        for y in range(x + 1):\n",
    "            print(int(scipy.special.binom(x, y)), ' ', end=' ')\n",
    "        print()"
   ]
  },
  {
   "cell_type": "markdown",
   "metadata": {},
   "source": [
    "## Zadanie 2 _(5pt)_\n",
    "\n",
    "Napisz funkcję `primes(n)` zwracająca listę liczb pierwszych nie większych niż $n$ np.\n",
    "\n",
    "```\n",
    "In [ ]:   primes(6)\n",
    "Out [ ]: [2, 3, 5]\n",
    "```"
   ]
  },
  {
   "cell_type": "code",
   "execution_count": 4,
   "metadata": {
    "pycharm": {
     "is_executing": false
    }
   },
   "outputs": [],
   "source": [
    "def primes(n):\n",
    "    result = [i for i in range(2, n + 1)]\n",
    "    for x in range(2, n + 1):\n",
    "        for y in range(2, x):\n",
    "            if x % y == 0:\n",
    "                result.remove(x)\n",
    "                break\n",
    "    return result\n"
   ]
  },
  {
   "cell_type": "markdown",
   "metadata": {},
   "source": [
    "## Zadanie 3 _(5pt)_\n",
    "\n",
    "Napisz funkcje, która usuwa wszystkie powtarzające się elementy z listy (tak, że każdy element występuje tylko raz) np. z listy `[1,1,2,2,2,3,3,5,5,5,4,4,4,0]` dostajemy `[1,2,3,5,4,0]`."
   ]
  },
  {
   "cell_type": "code",
   "execution_count": 5,
   "metadata": {
    "pycharm": {
     "is_executing": false
    }
   },
   "outputs": [],
   "source": [
    "def removeDuplicates(l):\n",
    "    l = list(dict.fromkeys(l))\n",
    "    return l\n",
    "#removeDuplicates([1,1,1,2,3,3,2,2])"
   ]
  },
  {
   "cell_type": "markdown",
   "metadata": {},
   "source": [
    "## Zadanie 4 _(10pt)_\n",
    "\n",
    "Napisz funkcję `prime_factors(n)`, która rozkłada $n$ na czynniki pierwsze i jako wynik zwraca listę par $[(p_1,\\alpha_1), (p_2,\\alpha_2), \\ldots, (p_k, \\alpha_k)]$ taką, że $p_1^{\\alpha_1}p_2^{\\alpha_2}\\ldots p_k^{\\alpha_k}$.\n"
   ]
  },
  {
   "cell_type": "code",
   "execution_count": 6,
   "metadata": {
    "pycharm": {
     "is_executing": false
    }
   },
   "outputs": [],
   "source": [
    "def prime_factors(n):\n",
    "    dividers = []\n",
    "    while n != 1:\n",
    "        for i in primes(n):\n",
    "            if n % i == 0:\n",
    "                n /= i\n",
    "                dividers.append(i)\n",
    "    dividers.sort()\n",
    "    result = []\n",
    "    for x in removeDuplicates(dividers):\n",
    "        ctr = 0\n",
    "        for y in dividers:\n",
    "            if x == y:\n",
    "                ctr += 1\n",
    "        result.append((x, ctr))\n",
    "    return result\n"
   ]
  },
  {
   "cell_type": "markdown",
   "metadata": {},
   "source": [
    "## Zadanie 5 _(10pt)_\n",
    "\n",
    "Napisz funkcję `fraczero(n)` liczącą silnie $n!$ dla $n$ od $0$ do $10000$ oraz jako wynik wraca liczbę zer na końcu $n!$."
   ]
  },
  {
   "cell_type": "code",
   "execution_count": 7,
   "metadata": {
    "pycharm": {
     "is_executing": false
    }
   },
   "outputs": [],
   "source": [
    "def frac(n):\n",
    "    if n == 1:\n",
    "        return 1\n",
    "    else:\n",
    "        return n * frac(n - 1)\n",
    "\n",
    "\n",
    "def fraczero(n):\n",
    "    x = frac(n)\n",
    "    print(x)\n",
    "    counter = 0\n",
    "    while x % 10 == 0:\n",
    "        counter += 1\n",
    "        x = x // 10\n",
    "    return counter\n",
    "\n",
    "\n"
   ]
  },
  {
   "cell_type": "markdown",
   "metadata": {},
   "source": [
    "## Zadanie 6 _(10pt)_\n",
    "\n",
    "Napisz program, który generuje liczbę $20$ liczb losowych (rozkład jednostajny) od $1$ do $100$\n",
    "* Wyświetl listę wygenerowanych liczb\n",
    "* Wyświetl średnią\n",
    "* Wyświetl największą i najmniejszą wartość\n",
    "* Wyświetl drugą największą i drugą najmniejszą wartość na liście\n",
    "* Wyświetl ile jest liczb parzystych na liście\n",
    " "
   ]
  },
  {
   "cell_type": "code",
   "execution_count": 8,
   "metadata": {
    "pycharm": {
     "is_executing": false
    }
   },
   "outputs": [],
   "source": [
    "from random import seed\n",
    "from random import random\n",
    "from math import floor\n",
    "import time\n",
    "\n",
    "def generateNumbers(n):\n",
    "    seed(floor(time.time()))\n",
    "    l=[floor(random()*100)+1 for i in range(n)]\n",
    "    l.sort()\n",
    "    return l\n",
    "\n",
    "def avg(l):\n",
    "    return sum(l)/len(l)    \n",
    "\n",
    "def findSecondMax(l):\n",
    "    l1 = l.copy()\n",
    "    M1 = max(l1)\n",
    "    l1.remove(M1)\n",
    "    return max(l1)\n",
    "\n",
    "def findSecondMin(l):\n",
    "    l1 = l.copy()\n",
    "    M1 = min(l1)\n",
    "    l1.remove(M1)\n",
    "    return min(l1)\n",
    "\n",
    "def findEven(l):\n",
    "    result =[]\n",
    "    for x in l:\n",
    "        if x % 2 == 0:\n",
    "            result.append(x)\n",
    "    return len(result)\n",
    "\n",
    "def program(n):\n",
    "    l = generateNumbers(20)\n",
    "    average = avg(l)\n",
    "    m = min(l)\n",
    "    M = max(l)\n",
    "    M2 = findSecondMax(l)\n",
    "    m2 = findSecondMin(l)\n",
    "    ev = findEven(l)\n",
    "    print(l)\n",
    "    print('Avg=',average)\n",
    "    print('Min=',m,', Max',M)\n",
    "    print('Min2=',m2,', Max2=',M2)\n",
    "    print('#Even=',ev)\n",
    "\n"
   ]
  },
  {
   "cell_type": "markdown",
   "metadata": {},
   "source": [
    "## Zadanie 7 _(10pt)_\n",
    "\n",
    "Załóżmy, że mamy następującą listę: `L = ['aababacaa', 'cabaabcca', 'aaabbcbacb', 'acababbaab', ...]` wygenerowaną losowo tzn. lista zawiera losowe ciągi znaków o zadanej długości z liter `'a'`, `'b'` i `'c'`. Takie wzorce występują w wielu miejscach np. sekwencje DNA. Użytkownik zawiera swój (wzorzec) ciąg znaków z literami i pustymi miejscami oznaczonymi przez `'*'` np. `\"a**a******\"`. Wykorzystaj słownik z kluczami zawierającymi indeksy znaków różnych od `'*'` i wartościami liter z wzorca. Napisz program, który znajduje wszystkie sekwencje z listy, które pasuje do podanego wzorca."
   ]
  },
  {
   "cell_type": "code",
   "execution_count": 9,
   "metadata": {
    "pycharm": {
     "is_executing": false,
     "name": "#%%\n"
    }
   },
   "outputs": [],
   "source": [
    "from random import choice\n",
    "from Task03 import removeDuplicates\n",
    "\n",
    "\n",
    "def generateString(n):\n",
    "    letters = ('a', 'b', 'c')\n",
    "    return \"\".join(choice(letters) for i in range(n))\n",
    "\n",
    "\n",
    "def generateList(n):\n",
    "    return [generateString(n) for i in range(pow(3, n))]\n",
    "\n",
    "\n",
    "def getDictionaryOfString(s):\n",
    "    d = {}\n",
    "    for i in range(len(s)):\n",
    "        if s[i] != '*':\n",
    "            d[i] = s[i]\n",
    "    return d\n",
    "\n",
    "\n",
    "def getSegments(l, p):\n",
    "    d = getDictionaryOfString(p)\n",
    "    segments = []\n",
    "    print(d)\n",
    "    for i in range(len(l)):\n",
    "        S = getDictionaryOfString(l[i])\n",
    "        if all(item in S.items() for item in d.items()):\n",
    "            segments.append(l[i])\n",
    "    return segments\n",
    "\n",
    "\n",
    "def start(n):\n",
    "    l = removeDuplicates(generateList(n))\n",
    "    print(len(l), l)\n",
    "\n",
    "    pattern = input()\n",
    "    while len(pattern) != n:\n",
    "        print('Pattern need to have ', n, ' symbols')\n",
    "        pattern = input()\n",
    "    seg = getSegments(l, pattern)\n",
    "    print(seg)\n",
    "\n"
   ]
  },
  {
   "cell_type": "markdown",
   "metadata": {},
   "source": [
    "## Zadanie 8 _(10pt)_\n",
    "\n",
    "Napisz program, który konwerteruje liczby rzymskie na liczby arabskie. Do zapisu liczb rzymskich używa\n",
    "się 7 liter: `I=1`, `V=5`, `X=10`, `L=50`, `C=100`, `D=500`, `M=1000`. Opis algorytmu zamiany z i na system rzymski można znaleźć np. [tutaj](http://www.algorytm.org/algorytmy-arytmetyczne/zamiana-z-i-na-system-rzymski.html)"
   ]
  },
  {
   "cell_type": "code",
   "execution_count": 10,
   "metadata": {
    "pycharm": {
     "is_executing": false
    }
   },
   "outputs": [],
   "source": [
    "A = [1000, 500, 100, 50, 10, 5, 1]\n",
    "R = ['M', 'D', 'C', 'L', 'X', 'V', 'I']\n",
    "\n",
    "\n",
    "def romeToArab(num):\n",
    "    i = 0\n",
    "    j = 0\n",
    "    result = 0\n",
    "    while i < len(A) and j < len(num):\n",
    "        if num[j] == R[i]:\n",
    "            result += A[i]\n",
    "            j += 1\n",
    "        elif i % 2 == 0 and i < len(A) - 2 and j < len(num) - 1 \\\n",
    "                and num[j] == R[i + 2] and num[j + 1] == R[i]:\n",
    "            result += A[i] - A[i + 2]\n",
    "            j += 2\n",
    "            i += 1\n",
    "        elif i % 2 == 1 and i < len(A) - 1 and j < len(num) - 1 \\\n",
    "                and num[j] == R[i + 1] and num[j + 1] == R[i]:\n",
    "            result += A[i] - A[i + 1]\n",
    "            j += 2\n",
    "            i += 1\n",
    "        else:\n",
    "            i += 1\n",
    "    print(result)\n",
    "    return result\n",
    "\n",
    "\n",
    "def arabToRome(num):\n",
    "    result = []\n",
    "    i = 0\n",
    "    while num > 0 and i < len(A):\n",
    "        if num >= A[i]:\n",
    "            num -= A[i]\n",
    "            result.append(R[i])\n",
    "        elif i % 2 == 0 and i < len(A) - 2 and \\\n",
    "                A[i + 2] != A[i] - A[i + 2] and (num >= A[i] - A[i + 2]):\n",
    "            result.append(R[i + 2])\n",
    "            result.append(R[i])\n",
    "            num -= A[i] - A[i + 2]\n",
    "            i += 1\n",
    "        elif i % 2 == 1 and i < len(A) - 1 and \\\n",
    "                A[i + 1] != A[i] - A[i + 1] and (num >= A[i] - A[i + 1]):\n",
    "            result.append(R[i + 1])\n",
    "            result.append(R[i])\n",
    "            num -= A[i] - A[i + 1]\n",
    "            i += 1\n",
    "        else:\n",
    "            i += 1\n",
    "    print(''.join(result))\n",
    "    return ''.join(result)\n",
    "\n",
    "\n",
    "def converter(s=input(\"Input : \")):\n",
    "    try:\n",
    "        val = int(s)\n",
    "        arabToRome(val)\n",
    "    except ValueError:\n",
    "        try:\n",
    "            val = str(s)\n",
    "            romeToArab(val)\n",
    "        except ValueError:\n",
    "            print('String Error')\n",
    "\n",
    "\n"
   ]
  },
  {
   "cell_type": "markdown",
   "metadata": {},
   "source": [
    "## Zadanie 9* _(5pt)_\n",
    "\n",
    "Napisz program kalkulator, który pobiera wprowadzone wartości oraz funkcje z klawiatury następnie podaje wynik. W przypadku błędnych danych zgłasza błąd.\n",
    "\n",
    "Przykładowa sesja:\n",
    "```\n",
    "    Kalkulator\n",
    "    [1]: 2+5*10\n",
    "        52\n",
    "    [2]: sin(0.5)+cos(0.3)\n",
    "        1.434762027729809\n",
    "    [3]: 2^100\n",
    "        1267650600228229401496703205376\n",
    "```\n",
    "\n",
    "Przykładowy kod pobierania danych od użytkownika:\n",
    "\n",
    "```\n",
    "    x = input('Podaj x = ')\n",
    "```"
   ]
  },
  {
   "cell_type": "code",
   "execution_count": 11,
   "metadata": {
    "pycharm": {
     "is_executing": false
    }
   },
   "outputs": [],
   "source": [
    "\n",
    "from math import sin, cos, tan\n",
    "\n",
    "while True:\n",
    "    x = input('Wyrazenie: ')\n",
    "    x.replace('^', '**')\n",
    "    x.replace('ctg', '(1/tan)')\n",
    "    eval(x)\n"
   ]
  },
  {
   "cell_type": "markdown",
   "metadata": {},
   "source": [
    "\n",
    "## Zadanie 10* _(10pt)_\n",
    "\n",
    "Napisz program, który rysuje na ekranie w trybie znakowym wykres funkcji zmiennej $x$. Wskazówka: utwórz  ,,tablicę dwuwymiarową'' o wymiarach 80x24 i narysuj wykres w tej tablicy. Następnie wynik wyświetl na ekranie.\n",
    "\n",
    "```\n",
    "        Podaj funkcje f(x) = sin(x)\n",
    "        Podaj początek przedziału a = -pi\n",
    "        Podaj koniec przedziału b = pi\n",
    "                                                |\n",
    "                                                |\n",
    "                                                |              ***********\n",
    "                                                |           ***           ***\n",
    "                                                |         **                 **\n",
    "                                                |        *                     *\n",
    "                                                |      **                       **\n",
    "                                                |     *                           *\n",
    "                                                |   **                             **\n",
    "                                                |  *                                 *\n",
    "                                                | *                                   *\n",
    "                                                |*                                     *\n",
    "        ----------------------------------------|---------------------------------------\n",
    "          *                                   * |\n",
    "           *                                 *  |\n",
    "            **                             **   |\n",
    "              *                           *     |\n",
    "               **                       **      |\n",
    "                 *                     *        |\n",
    "                  **                 **         |\n",
    "                    ***           ***           |\n",
    "                       ***** *****              |\n",
    "                            *                   |\n",
    "                                                |\n",
    "```"
   ]
  },
  {
   "cell_type": "code",
   "execution_count": 12,
   "metadata": {
    "pycharm": {
     "is_executing": false
    }
   },
   "outputs": [],
   "source": [
    "from math import floor, pi, sin, cos, tan\n",
    "\n",
    "from numpy.ma import arange\n",
    "\n",
    "\n",
    "def print2DArray(array):\n",
    "    for i in range(len(array)):\n",
    "        for j in range(len(array[i])):\n",
    "            print(array[i][j], end=' ')\n",
    "        print()\n",
    "\n",
    "\n",
    "def getEmptyGraph(g, s):\n",
    "    for i in range(len(g)):\n",
    "        for j in range(len(g[i])):\n",
    "            if g[i][j] != '*':\n",
    "                if j == s:\n",
    "                    g[i][j] = '|'\n",
    "                    if i == 0:\n",
    "                        g[i][j] = '^'\n",
    "                if i == floor(len(g) / 2):\n",
    "                    g[i][j] = '-'\n",
    "                    if j == floor(len(g[i]) - 1):\n",
    "                        g[i][j] = '>'\n",
    "                if i == floor(len(g) / 2) and j == s:\n",
    "                    g[i][j] = '+'\n",
    "    return g\n",
    "\n",
    "\n",
    "def inRange(low, high, x):\n",
    "    return low <= x <= high\n",
    "\n",
    "\n",
    "def lin(x):\n",
    "    return x\n",
    "\n",
    "\n",
    "def draw(func, x1, x2):\n",
    "    Dx = 80\n",
    "    Dy = 24+1\n",
    "    points = []\n",
    "    nearZero = []\n",
    "    yAxis = 0\n",
    "    # znajdz punkty\n",
    "    g = [[' ' for j in range(Dx)] for i in range(Dy)]\n",
    "    for x in arange(x1, x2, ((abs(x1 - x2)) / 80)):\n",
    "        points.append(-floor(12 * func(x)) + int(len(g) / 2) - 1)\n",
    "        if round(x) == 0:\n",
    "            nearZero.append(abs(x))\n",
    "\n",
    "    # USTAW OS\n",
    "    if inRange(x1, x2, 0):\n",
    "        m = min(nearZero)\n",
    "        count = 0\n",
    "        for x in arange(x1, x2, ((abs(x1 - x2)) / 80)):\n",
    "            if abs(x) == m:\n",
    "                yAxis = count\n",
    "            count += 1\n",
    "\n",
    "    # umiesc punkty\n",
    "    for i in range(Dy):\n",
    "        for j in range(Dx):\n",
    "            if -abs(Dy) < points[j] < abs(Dy):\n",
    "                g[points[j]][j] = '*'\n",
    "            else:\n",
    "                g[Dy - 1][j] = 'I'\n",
    "\n",
    "    print2DArray(getEmptyGraph(g, yAxis))\n",
    "\n",
    "\n",
    "#draw(sin, -2 * pi, 5* pi)\n",
    "#z przesunieciem osi skalowaniem i podkresleniem przeciecia sie osi X i Y !\n"
   ]
  }
 ],
 "metadata": {
  "kernelspec": {
   "name": "python2",
   "language": "python",
   "display_name": "Python 2"
  },
  "language_info": {
   "codemirror_mode": {
    "name": "ipython",
    "version": 3
   },
   "file_extension": ".py",
   "mimetype": "text/x-python",
   "name": "python",
   "nbconvert_exporter": "python",
   "pygments_lexer": "ipython3",
   "version": "3.7.3"
  },
  "pycharm": {
   "stem_cell": {
    "cell_type": "raw",
    "source": [],
    "metadata": {
     "collapsed": false
    }
   }
  }
 },
 "nbformat": 4,
 "nbformat_minor": 2
}