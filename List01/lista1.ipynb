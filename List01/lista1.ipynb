{
 "cells": [
  {
   "cell_type": "markdown",
   "metadata": {},
   "source": [
    "# Lista 1\n",
    "\n",
    "## Kurs wybranego języka programowania (Python)\n",
    "\n",
    "Wszystkie rozwiązania proszę wpisać w tym notatniku poniżej treści zadań. Zadania z `*` to zadania dodatkowe."
   ]
  },
  {
   "cell_type": "markdown",
   "metadata": {},
   "source": [
    "## Zadanie 1 _(5pt)_\n",
    "\n",
    "Napisz funkcję, który wyświetla trójkąt Pascala o zadanej wysokości\n",
    "```\n",
    "                1\n",
    "              1   1\n",
    "            1   2   1\n",
    "          1   3   3   1\n",
    "        1   4   6   4   1\n",
    "      .....................\n",
    "```"
   ]
  },
  {
   "cell_type": "code",
   "execution_count": 9,
   "metadata": {
    "pycharm": {
     "is_executing": false
    }
   },
   "outputs": [
    {
     "name": "stdout",
     "text": [
      "            1   \n",
      "          1   1   \n",
      "        1   2   1   \n",
      "      1   3   3   1   \n",
      "    1   4   6   4   1   \n"
     ],
     "output_type": "stream"
    }
   ],
   "source": [
    "from math import floor\n",
    "import scipy.special\n",
    "\n",
    "\n",
    "def pascal_triangle(n):\n",
    "    for x in range(n):\n",
    "        print(2*(n - x + 1) * ' ', end='')\n",
    "        for y in range(x + 1):\n",
    "            print(int(scipy.special.binom(x, y)), ' ', end=' ')\n",
    "        print()\n",
    "pascal_triangle(5)"
   ]
  },
  {
   "cell_type": "markdown",
   "metadata": {},
   "source": [
    "## Zadanie 2 _(5pt)_\n",
    "\n",
    "Napisz funkcję `primes(n)` zwracająca listę liczb pierwszych nie większych niż $n$ np.\n",
    "\n",
    "```\n",
    "In [ ]:   primes(6)\n",
    "Out [ ]: [2, 3, 5]\n",
    "```"
   ]
  },
  {
   "cell_type": "code",
   "execution_count": 10,
   "metadata": {
    "pycharm": {
     "is_executing": false
    }
   },
   "outputs": [
    {
     "data": {
      "text/plain": "[2, 3, 5, 7, 11, 13]"
     },
     "metadata": {},
     "output_type": "execute_result",
     "execution_count": 10
    }
   ],
   "source": [
    "def primes(n):\n",
    "    result = [i for i in range(2, n + 1)]\n",
    "    for x in range(2, n + 1):\n",
    "        for y in range(2, x):\n",
    "            if x % y == 0:\n",
    "                result.remove(x)\n",
    "                break\n",
    "    return result\n",
    "\n",
    "primes(13)"
   ]
  },
  {
   "cell_type": "markdown",
   "metadata": {},
   "source": [
    "## Zadanie 3 _(5pt)_\n",
    "\n",
    "Napisz funkcje, która usuwa wszystkie powtarzające się elementy z listy (tak, że każdy element występuje tylko raz) np. z listy `[1,1,2,2,2,3,3,5,5,5,4,4,4,0]` dostajemy `[1,2,3,5,4,0]`."
   ]
  },
  {
   "cell_type": "code",
   "execution_count": 11,
   "metadata": {
    "pycharm": {
     "is_executing": false
    }
   },
   "outputs": [
    {
     "data": {
      "text/plain": "[1, 2, 3]"
     },
     "metadata": {},
     "output_type": "execute_result",
     "execution_count": 11
    }
   ],
   "source": [
    "def removeDuplicates(l):\n",
    "    l = list(dict.fromkeys(l))\n",
    "    return l\n",
    "removeDuplicates([1,1,1,2,3,3,2,2])"
   ]
  },
  {
   "cell_type": "markdown",
   "metadata": {},
   "source": [
    "## Zadanie 4 _(10pt)_\n",
    "\n",
    "Napisz funkcję `prime_factors(n)`, która rozkłada $n$ na czynniki pierwsze i jako wynik zwraca listę par $[(p_1,\\alpha_1), (p_2,\\alpha_2), \\ldots, (p_k, \\alpha_k)]$ taką, że $p_1^{\\alpha_1}p_2^{\\alpha_2}\\ldots p_k^{\\alpha_k}$.\n"
   ]
  },
  {
   "cell_type": "code",
   "execution_count": 12,
   "metadata": {
    "pycharm": {
     "is_executing": false
    }
   },
   "outputs": [
    {
     "traceback": [
      "\u001b[0;31m---------------------------------------------------------------------------\u001b[0m",
      "\u001b[0;31mTypeError\u001b[0m                                 Traceback (most recent call last)",
      "\u001b[0;32m<ipython-input-12-c64570169567>\u001b[0m in \u001b[0;36m<module>\u001b[0;34m\u001b[0m\n\u001b[1;32m     16\u001b[0m     \u001b[0;32mreturn\u001b[0m \u001b[0mresult\u001b[0m\u001b[0;34m\u001b[0m\u001b[0;34m\u001b[0m\u001b[0m\n\u001b[1;32m     17\u001b[0m \u001b[0;34m\u001b[0m\u001b[0m\n\u001b[0;32m---> 18\u001b[0;31m \u001b[0mprime_factors\u001b[0m\u001b[0;34m(\u001b[0m\u001b[0;36m147\u001b[0m\u001b[0;34m)\u001b[0m\u001b[0;34m\u001b[0m\u001b[0;34m\u001b[0m\u001b[0m\n\u001b[0m\u001b[1;32m     19\u001b[0m \u001b[0;34m\u001b[0m\u001b[0m\n",
      "\u001b[0;32m<ipython-input-12-c64570169567>\u001b[0m in \u001b[0;36mprime_factors\u001b[0;34m(n)\u001b[0m\n\u001b[1;32m      2\u001b[0m     \u001b[0mdividers\u001b[0m \u001b[0;34m=\u001b[0m \u001b[0;34m[\u001b[0m\u001b[0;34m]\u001b[0m\u001b[0;34m\u001b[0m\u001b[0;34m\u001b[0m\u001b[0m\n\u001b[1;32m      3\u001b[0m     \u001b[0;32mwhile\u001b[0m \u001b[0mn\u001b[0m \u001b[0;34m!=\u001b[0m \u001b[0;36m1\u001b[0m\u001b[0;34m:\u001b[0m\u001b[0;34m\u001b[0m\u001b[0;34m\u001b[0m\u001b[0m\n\u001b[0;32m----> 4\u001b[0;31m         \u001b[0;32mfor\u001b[0m \u001b[0mi\u001b[0m \u001b[0;32min\u001b[0m \u001b[0mprimes\u001b[0m\u001b[0;34m(\u001b[0m\u001b[0mn\u001b[0m\u001b[0;34m)\u001b[0m\u001b[0;34m:\u001b[0m\u001b[0;34m\u001b[0m\u001b[0;34m\u001b[0m\u001b[0m\n\u001b[0m\u001b[1;32m      5\u001b[0m             \u001b[0;32mif\u001b[0m \u001b[0mn\u001b[0m \u001b[0;34m%\u001b[0m \u001b[0mi\u001b[0m \u001b[0;34m==\u001b[0m \u001b[0;36m0\u001b[0m\u001b[0;34m:\u001b[0m\u001b[0;34m\u001b[0m\u001b[0;34m\u001b[0m\u001b[0m\n\u001b[1;32m      6\u001b[0m                 \u001b[0mn\u001b[0m \u001b[0;34m/=\u001b[0m \u001b[0mi\u001b[0m\u001b[0;34m\u001b[0m\u001b[0;34m\u001b[0m\u001b[0m\n",
      "\u001b[0;32m<ipython-input-10-43714cd83895>\u001b[0m in \u001b[0;36mprimes\u001b[0;34m(n)\u001b[0m\n\u001b[1;32m      1\u001b[0m \u001b[0;32mdef\u001b[0m \u001b[0mprimes\u001b[0m\u001b[0;34m(\u001b[0m\u001b[0mn\u001b[0m\u001b[0;34m)\u001b[0m\u001b[0;34m:\u001b[0m\u001b[0;34m\u001b[0m\u001b[0;34m\u001b[0m\u001b[0m\n\u001b[0;32m----> 2\u001b[0;31m     \u001b[0mresult\u001b[0m \u001b[0;34m=\u001b[0m \u001b[0;34m[\u001b[0m\u001b[0mi\u001b[0m \u001b[0;32mfor\u001b[0m \u001b[0mi\u001b[0m \u001b[0;32min\u001b[0m \u001b[0mrange\u001b[0m\u001b[0;34m(\u001b[0m\u001b[0;36m2\u001b[0m\u001b[0;34m,\u001b[0m \u001b[0mn\u001b[0m \u001b[0;34m+\u001b[0m \u001b[0;36m1\u001b[0m\u001b[0;34m)\u001b[0m\u001b[0;34m]\u001b[0m\u001b[0;34m\u001b[0m\u001b[0;34m\u001b[0m\u001b[0m\n\u001b[0m\u001b[1;32m      3\u001b[0m     \u001b[0;32mfor\u001b[0m \u001b[0mx\u001b[0m \u001b[0;32min\u001b[0m \u001b[0mrange\u001b[0m\u001b[0;34m(\u001b[0m\u001b[0;36m2\u001b[0m\u001b[0;34m,\u001b[0m \u001b[0mn\u001b[0m \u001b[0;34m+\u001b[0m \u001b[0;36m1\u001b[0m\u001b[0;34m)\u001b[0m\u001b[0;34m:\u001b[0m\u001b[0;34m\u001b[0m\u001b[0;34m\u001b[0m\u001b[0m\n\u001b[1;32m      4\u001b[0m         \u001b[0;32mfor\u001b[0m \u001b[0my\u001b[0m \u001b[0;32min\u001b[0m \u001b[0mrange\u001b[0m\u001b[0;34m(\u001b[0m\u001b[0;36m2\u001b[0m\u001b[0;34m,\u001b[0m \u001b[0mx\u001b[0m\u001b[0;34m)\u001b[0m\u001b[0;34m:\u001b[0m\u001b[0;34m\u001b[0m\u001b[0;34m\u001b[0m\u001b[0m\n\u001b[1;32m      5\u001b[0m             \u001b[0;32mif\u001b[0m \u001b[0mx\u001b[0m \u001b[0;34m%\u001b[0m \u001b[0my\u001b[0m \u001b[0;34m==\u001b[0m \u001b[0;36m0\u001b[0m\u001b[0;34m:\u001b[0m\u001b[0;34m\u001b[0m\u001b[0;34m\u001b[0m\u001b[0m\n",
      "\u001b[0;31mTypeError\u001b[0m: 'float' object cannot be interpreted as an integer"
     ],
     "ename": "TypeError",
     "evalue": "'float' object cannot be interpreted as an integer",
     "output_type": "error"
    }
   ],
   "source": [
    "def prime_factors(n):\n",
    "    dividers = []\n",
    "    while n != 1:\n",
    "        for i in primes(n):\n",
    "            if n % i == 0:\n",
    "                n /= i\n",
    "                dividers.append(i)\n",
    "    dividers.sort()\n",
    "    result = []\n",
    "    for x in removeDuplicates(dividers):\n",
    "        ctr = 0\n",
    "        for y in dividers:\n",
    "            if x == y:\n",
    "                ctr += 1\n",
    "        result.append((x, ctr))\n",
    "    return result\n",
    "\n",
    "prime_factors(147)        "
   ]
  },
  {
   "cell_type": "markdown",
   "metadata": {},
   "source": [
    "## Zadanie 5 _(10pt)_\n",
    "\n",
    "Napisz funkcję `fraczero(n)` liczącą silnie $n!$ dla $n$ od $0$ do $10000$ oraz jako wynik wraca liczbę zer na końcu $n!$."
   ]
  },
  {
   "cell_type": "code",
   "execution_count": null,
   "metadata": {
    "pycharm": {
     "is_executing": false
    }
   },
   "outputs": [],
   "source": [
    "def frac(n):\n",
    "    if n == 1:\n",
    "        return 1\n",
    "    else:\n",
    "        return n * frac(n - 1)\n",
    "\n",
    "\n",
    "def fraczero(n):\n",
    "    x = frac(n)\n",
    "    print(x)\n",
    "    counter = 0\n",
    "    while x % 10 == 0:\n",
    "        counter += 1\n",
    "        x = x // 10\n",
    "    return counter\n",
    "\n",
    "\n",
    "fraczero(24)\n"
   ]
  },
  {
   "cell_type": "markdown",
   "metadata": {},
   "source": [
    "## Zadanie 6 _(10pt)_\n",
    "\n",
    "Napisz program, który generuje liczbę $20$ liczb losowych (rozkład jednostajny) od $1$ do $100$\n",
    "* Wyświetl listę wygenerowanych liczb\n",
    "* Wyświetl średnią\n",
    "* Wyświetl największą i najmniejszą wartość\n",
    "* Wyświetl drugą największą i drugą najmniejszą wartość na liście\n",
    "* Wyświetl ile jest liczb parzystych na liście\n",
    " "
   ]
  },
  {
   "cell_type": "code",
   "execution_count": 83,
   "metadata": {
    "pycharm": {
     "is_executing": false
    }
   },
   "outputs": [
    {
     "name": "stdout",
     "text": [
      "[1, 7, 10, 18, 27, 31, 49, 54, 58, 68, 73, 74, 74, 77, 84, 90, 92, 93, 98, 100]\n",
      "Avg= 58.9\n",
      "Min= 1 , Max 100\n",
      "Min2= 7 , Max2= 98\n",
      "#Even= 12\n"
     ],
     "output_type": "stream"
    }
   ],
   "source": [
    "from random import seed\n",
    "from random import random\n",
    "from math import floor\n",
    "import time\n",
    "\n",
    "def generateNumbers(n):\n",
    "    seed(floor(time.time()))\n",
    "    l=[floor(random()*100)+1 for i in range(n)]\n",
    "    l.sort()\n",
    "    return l\n",
    "\n",
    "def avg(l):\n",
    "    return sum(l)/len(l)    \n",
    "\n",
    "def findSecondMax(l):\n",
    "    l1 = l.copy()\n",
    "    M1 = max(l1)\n",
    "    l1.remove(M1)\n",
    "    return max(l1)\n",
    "\n",
    "def findSecondMin(l):\n",
    "    l1 = l.copy()\n",
    "    M1 = min(l1)\n",
    "    l1.remove(M1)\n",
    "    return min(l1)\n",
    "\n",
    "def findEven(l):\n",
    "    result =[]\n",
    "    for x in l:\n",
    "        if x % 2 == 0:\n",
    "            result.append(x)\n",
    "    return len(result)\n",
    "\n",
    "def program(n):\n",
    "    l = generateNumbers(20)\n",
    "    average = avg(l)\n",
    "    m = min(l)\n",
    "    M = max(l)\n",
    "    M2 = findSecondMax(l)\n",
    "    m2 = findSecondMin(l)\n",
    "    ev = findEven(l)\n",
    "    print(l)\n",
    "    print('Avg=',average)\n",
    "    print('Min=',m,', Max',M)\n",
    "    print('Min2=',m2,', Max2=',M2)\n",
    "    print('#Even=',ev)\n",
    "\n",
    "program(20)\n"
   ]
  },
  {
   "cell_type": "markdown",
   "metadata": {},
   "source": [
    "## Zadanie 7 _(10pt)_\n",
    "\n",
    "Załóżmy, że mamy następującą listę: `L = ['aababacaa', 'cabaabcca', 'aaabbcbacb', 'acababbaab', ...]` wygenerowaną losowo tzn. lista zawiera losowe ciągi znaków o zadanej długości z liter `'a'`, `'b'` i `'c'`. Takie wzorce występują w wielu miejscach np. sekwencje DNA. Użytkownik zawiera swój (wzorzec) ciąg znaków z literami i pustymi miejscami oznaczonymi przez `'*'` np. `\"a**a******\"`. Wykorzystaj słownik z kluczami zawierającymi indeksy znaków różnych od `'*'` i wartościami liter z wzorca. Napisz program, który znajduje wszystkie sekwencje z listy, które pasuje do podanego wzorca."
   ]
  },
  {
   "cell_type": "code",
   "execution_count": 117,
   "metadata": {
    "pycharm": {
     "is_executing": false,
     "name": "#%%\n"
    }
   },
   "outputs": [
    {
     "name": "stdout",
     "text": [
      "4186 ['aababbca', 'cbbcacab', 'aaaccabc', 'abcacabb', 'cabacabb', 'abccaacc', 'bacbcccb', 'ccabbcbc', 'bcabacbb', 'cabccccb', 'abccaacb', 'bbcababc', 'cccbcaac', 'bcbbbccc', 'cabccacc', 'ababbcca', 'cbbbbbac', 'cccbbcaa', 'caccaacb', 'acaaabab', 'abacabba', 'aabcacbc', 'cbbcbbba', 'abbbbaba', 'bccacbaa', 'abaacabc', 'ccbcaccc', 'baccabcc', 'bccbacba', 'aabaabbc', 'abcbaaca', 'cacbaccc', 'ababaacc', 'cbabcbba', 'aabcabba', 'bcabcbcc', 'bcaacaaa', 'aacabbcc', 'bbbbabac', 'cbaccaba', 'babaabac', 'cbaccaca', 'bbbccabb', 'aabaccaa', 'baaaacba', 'abacaaca', 'bbcbcbcb', 'baacbaaa', 'bccbbbbb', 'aabcbaba', 'cccbcbba', 'cabaabab', 'abacccba', 'bbababcb', 'abacccca', 'aaaababc', 'acaacabb', 'bbaacbac', 'caaaabba', 'cccbaaac', 'cabccccc', 'aabbcaac', 'cabacbbc', 'bcbcbabb', 'abbacbca', 'acbcacaa', 'bbbcbaca', 'abaacbcc', 'bcccaabb', 'cbacbbcc', 'ccbcaaac', 'cbacabbc', 'bcbacccb', 'caacccba', 'abbaccab', 'cbccbbca', 'ccacabca', 'bcaacccc', 'ababbbab', 'bacbaabc', 'cbacbbab', 'ccaacbca', 'accabaab', 'acabbcbc', 'bacbbbaa', 'cbabaaac', 'cacbccca', 'acbcbbcc', 'bcbaabcb', 'bbcbbccc', 'bacbbaca', 'bcccccca', 'bccbccbc', 'abcccabc', 'acbcbbbc', 'ccccabca', 'ccbcabcc', 'acbbaaca', 'bbcbccba', 'bbbabcab', 'caccbaba', 'cbaaccac', 'abccbcba', 'caabbaac', 'ccbbccca', 'abccccbb', 'ccabcbab', 'bcbcabcc', 'acacbbba', 'baaccacb', 'ccacbbca', 'aacbbbba', 'acaccbaa', 'abbbaaaa', 'caacabcc', 'ccbbcbac', 'caaababb', 'baaabbcc', 'babcbbbc', 'aaaaaabb', 'bcbabaca', 'aabaccac', 'bbaabcba', 'acacaaba', 'baaabcac', 'bcacbbbc', 'bbccaaac', 'cabbcccc', 'cabcbcac', 'cbcacbcc', 'cabaaaaa', 'baacacbc', 'babaacab', 'cabcbacc', 'babbabab', 'acbbcabb', 'acbabacc', 'abbcbcba', 'acbccccc', 'ccabcaab', 'bcbabbac', 'aabccbbb', 'bbbbcccc', 'acaabcbb', 'cabbbbbc', 'bacaaacb', 'cbacccbb', 'cbbbbcbc', 'caaabcac', 'aaabccaa', 'ccbcaaba', 'ccccaaac', 'acbacbbc', 'baacbabb', 'cbcabcab', 'baaccbcb', 'abccccba', 'bbaabccc', 'acabccbc', 'cccbcbcc', 'bcccbbba', 'cbcacabc', 'abcccabb', 'bbccaaaa', 'bbbbbccb', 'bbbabbab', 'aaabbacb', 'bbbacbbc', 'baaaaaac', 'aabababc', 'acbbacac', 'ccbccabc', 'babcaacc', 'abacbbcc', 'bbacbaab', 'ccaacbbc', 'cbbccacb', 'accbbaac', 'bbcabaab', 'abcccacc', 'cabbbbcb', 'bbabbcba', 'bacacccb', 'caacbcca', 'cabcbbba', 'aacbaacc', 'cacacaac', 'acccbbba', 'abcaacab', 'ccbbcccb', 'aabbaaba', 'ccabaaca', 'bbabcaba', 'aabbccca', 'acbbacba', 'bccacbba', 'cccccbcb', 'cbbacbca', 'accaaaab', 'bcabcbcb', 'babcacba', 'ccbccccc', 'cacbbcaa', 'acacabbb', 'baabbbac', 'abbcccca', 'cacabcca', 'babccbbb', 'bbcbaaba', 'cccaaaca', 'ccbcbccb', 'bcacaacb', 'aaacbbcb', 'bccacbbb', 'bbbbcacc', 'caabcaca', 'cccbbcac', 'ababcabc', 'aaabbcac', 'abbbcacb', 'baaabbaa', 'caabbccb', 'aacababb', 'cccaccba', 'cabacabc', 'aaccaabc', 'acabaacc', 'acccccca', 'acacbaca', 'aabbbcba', 'caccbccb', 'cbcacbcb', 'abbbabcb', 'accacbba', 'bbbbbbcb', 'aaabaaac', 'ccacbcac', 'acbbcaac', 'aacaacbb', 'bcaccacc', 'caababac', 'cbbcaabc', 'abbcbacb', 'acbabcca', 'cbbbcaab', 'aacaabcc', 'acaccbac', 'abccaccb', 'cacaacbc', 'bccabaca', 'ccccabbc', 'bbbbacaa', 'cabababc', 'cbaaacca', 'bbaaccac', 'bcbaabcc', 'ababacaa', 'bbaccacb', 'abcccbbb', 'bbacbabb', 'ccbacccb', 'acbbbcac', 'caaccaab', 'bbcacbca', 'bcacbbcc', 'aabbaaca', 'cabbcbbb', 'bcbacaca', 'bbcbccaa', 'cabbaabc', 'ccbaaabc', 'baccbaca', 'bcaabbca', 'cacccccc', 'baaaacac', 'cacbbaab', 'bbccbaca', 'abaabcaa', 'aacaacaa', 'bbabcbbb', 'caacaacc', 'bcbcbbab', 'aacccccb', 'ccbbacba', 'bccccbcb', 'abccbcbc', 'cbbbacab', 'bbacbacb', 'bccabbac', 'ababccab', 'babbbcaa', 'cabaccaa', 'cbbcbaac', 'ccaccccb', 'bbbbcbaa', 'bacacaca', 'bccbaccc', 'bbbacaab', 'bcbcbbca', 'ccbccbba', 'bacbacac', 'cccbbbaa', 'accccaab', 'aaaacabc', 'caaaaacb', 'bacacaba', 'bbcccbaa', 'abaaccba', 'bbbaacac', 'caaaaaba', 'abcaabaa', 'acbbacab', 'aacaaaaa', 'ccaacabc', 'bcbacacb', 'abbbbccb', 'cbababba', 'ccaaabbc', 'bbbbbbbb', 'bbcababa', 'bcacccaa', 'bccaaaac', 'babcbabb', 'babacbba', 'acbacabc', 'aacacbcb', 'cbcccbbc', 'aababcca', 'aabbcbab', 'aabccaaa', 'aabcbaaa', 'abcccccc', 'bbccbacb', 'ababaaaa', 'aaabbaab', 'acaccaab', 'ccacbacc', 'ccaabbca', 'abbcbaba', 'cbccccbc', 'bcabbbab', 'accbaaba', 'bbbbbbab', 'acbaabbc', 'abbcccbc', 'bcbcabab', 'bbabcaac', 'bcbcbcac', 'cbbabccc', 'cbaccbac', 'bbbacccc', 'babbaaab', 'abcbacbb', 'acacabca', 'cabbabba', 'abaacccb', 'accbbbcc', 'bacccbca', 'bcacabab', 'bccccacb', 'bcbbaaac', 'aacbabba', 'bbccacac', 'bbbbbacb', 'aacacaca', 'bbbbcaba', 'cbbbbbca', 'abcbccbc', 'ababcbbb', 'abbcbbcc', 'bccbbbaa', 'bababaca', 'cbbbcccb', 'ccbccbbb', 'cbcaaaca', 'caabcabb', 'abbbcccb', 'ababbcbc', 'aabcbcca', 'aacbbacb', 'abababaa', 'ccababbb', 'ccccbaaa', 'acaaabcc', 'ababcccc', 'bcaabaaa', 'cbcbacaa', 'cbcaabca', 'bacaacac', 'cbabcaaa', 'abbabccc', 'ccbcbabb', 'aaaaaaac', 'bbcbcaaa', 'caabbbaa', 'ccbbbcca', 'cbaccbca', 'baaccaba', 'abaababc', 'abacbabc', 'ccaacccb', 'cccbacbb', 'cbbaaacc', 'cbaabaaa', 'cccaacba', 'abbcacbc', 'bbcaccab', 'cbbabbbb', 'cabcaccb', 'bbccabcc', 'bccbcccb', 'bcabaaab', 'abbbcbaa', 'cababbcc', 'bcabbacb', 'cccacbaa', 'cbcccccc', 'bacbcbcc', 'aaaacaaa', 'ccbaacaa', 'aacbccbb', 'cabcaacb', 'aabcbbbb', 'aaacacbb', 'bbcaaaaa', 'babbaaba', 'cccbabcc', 'cabbbcba', 'accbcabb', 'caaabcab', 'ccbacbaa', 'abcaabbc', 'ccccbbcb', 'acbabaab', 'bcbcaacb', 'bcbbcaba', 'cccbccac', 'ccabbbab', 'aabcbabc', 'cacbbaca', 'babcaaca', 'babcabaa', 'aacbbbac', 'bcbbacbc', 'abcaacca', 'bbcbcbca', 'cbbcaaaa', 'abbaaacc', 'abbcaaab', 'abacbacc', 'bccbbaaa', 'aacbccba', 'cabbcaaa', 'abaccbbb', 'bbbaaacb', 'aaabbcba', 'acaaaaca', 'cabacaaa', 'aaabcacc', 'babacbbb', 'cbbcccbb', 'aabcbaca', 'cacabaab', 'babccbca', 'caacbcbc', 'bcaaabcb', 'bcacbacc', 'ccaaaaba', 'acbbaaaa', 'ccbbaacb', 'cacbaaab', 'cbbccbbc', 'abbbbbca', 'bcaacccb', 'ccabbcab', 'cabcccba', 'cabcbcbc', 'abcbacba', 'bbacabcc', 'caabcaab', 'bbcbcbcc', 'ababbacb', 'cccbabba', 'abccaabc', 'abaaaaba', 'ababccca', 'ababccba', 'accbbbcb', 'bbbcaabc', 'cbabaccc', 'cccabbcb', 'bbcbbcbb', 'abccccca', 'bacabcba', 'bcbbaaba', 'aaabaaaa', 'bcccbaab', 'acbccabc', 'babbbcbb', 'aacbcbbb', 'cccbcbaa', 'abbbaccb', 'caaccaca', 'bcabcccc', 'aabacacb', 'bbbcacaa', 'bbcbbbac', 'caaccbaa', 'aaaabacb', 'bcccbccb', 'cbacbbaa', 'ccbaccac', 'cbcabbca', 'ccbbcacb', 'cbccaccb', 'cccabbca', 'caaccbba', 'bcaabccc', 'bcacbcbc', 'cbccabcc', 'bababbcc', 'caccaccc', 'bacbbbab', 'aacababa', 'aaaaaaca', 'ccaabbab', 'aabccaac', 'cbabcbcc', 'cabcacaa', 'cbabaaca', 'cbcbccbb', 'bacabcca', 'cccabcba', 'bcababba', 'bcacacaa', 'cbbcabcb', 'bcbabacb', 'ccbaaaca', 'bacbaaab', 'baacbcca', 'aabbcbbc', 'bcaaabbc', 'cabaacab', 'caabcbcb', 'aaabbcbc', 'bbccbbcb', 'bcaaccaa', 'cacbbbbc', 'aabaccab', 'cbbabcac', 'cbacbcab', 'babccbba', 'bbcbabab', 'ccbbbbab', 'bbabbcbc', 'bcabaaca', 'baccbaba', 'cccbaaba', 'cbcbcaca', 'abacbaac', 'bccabbca', 'bbbaabbc', 'cbcaccca', 'acbcbaba', 'babaacbb', 'cbbababa', 'bcaaacbc', 'accbacbb', 'abaccaaa', 'ccccbccc', 'aabcacac', 'bcaacbcb', 'aaaacbcc', 'bccbaccb', 'bacbcbca', 'ccbbccbc', 'caaccaaa', 'bacbaacc', 'acabbbac', 'bbaaacbb', 'bbbbcabb', 'bbcacbab', 'aabababb', 'abbacccb', 'bbbbccba', 'cbbbaaca', 'cbbcbcba', 'babcaaac', 'bbacaaca', 'cbbcbabc', 'bcaacaca', 'aabcaabb', 'cacbbaaa', 'acbabcba', 'cabaaaca', 'aacccacb', 'ccbbcccc', 'aaccabcb', 'babccbbc', 'caaabcba', 'ccbcbbab', 'acbcbcaa', 'cabacaca', 'bcacbbca', 'baccabcb', 'cababbba', 'caacacba', 'acbbbcba', 'cccbbaca', 'ccacacba', 'abcabaab', 'cbcacaac', 'bbbaacba', 'baaaaccb', 'abacaacb', 'accabcab', 'cacacabc', 'cbbcabba', 'bbabacbb', 'caabbbca', 'cabccbac', 'caaabbbb', 'ababcbaa', 'ccbcbaaa', 'bcabacac', 'ccaabacc', 'aacbbbaa', 'bcabbbbb', 'bbababac', 'abaaacba', 'caacbccb', 'accbacaa', 'abbaacaa', 'bccbcabc', 'baacabac', 'bcabbaaa', 'ccbbbbcb', 'bccccaab', 'bccbbcab', 'baabbcca', 'abcccaac', 'acccbcab', 'baabbcbc', 'bacbaccc', 'abbaccbc', 'caacaaab', 'aaccccbc', 'baaaacca', 'cacaaacb', 'abbcaabb', 'bcacacba', 'ccbbbccb', 'cacabaaa', 'caabaaba', 'abccbacb', 'bacccbbc', 'baababbb', 'bbacccca', 'acbbabac', 'accbbbca', 'accaacac', 'ccbcbbba', 'acbbcccb', 'cbbccbbb', 'baabbccb', 'cabacbba', 'aaaabccb', 'abcbbaba', 'acbbccbc', 'acbbaabc', 'bbabbabb', 'cbcacaaa', 'bbbbabab', 'accccabc', 'baccbaac', 'abbcbaaa', 'bbbbccab', 'bccbaaba', 'baabbacc', 'bcaacbaa', 'bcbcbbbc', 'ccbacaaa', 'baccaaac', 'abaabccb', 'bcccbccc', 'ccbbbbac', 'cababcab', 'aabbccab', 'cacabccc', 'bbacccac', 'cbcaaaac', 'aaacbaab', 'bcbcbaca', 'bababbbc', 'aaacabca', 'bccbcbab', 'aabaacba', 'baaabaca', 'acaaccba', 'aacbccab', 'babcabca', 'abcacccc', 'aabccacb', 'baaaabac', 'aabbcbbb', 'bccccccb', 'baacbacc', 'aacbabbc', 'baacacbb', 'accaabca', 'ccbbbcaa', 'cbaaaaab', 'acbbcbaa', 'cbcbbcbc', 'bbaabbba', 'ccbbabbc', 'bcbcccaa', 'cabbabac', 'caabacbc', 'abbaabca', 'ababccbc', 'cabaccbb', 'baccbbab', 'cabbbcaa', 'cbcaacbc', 'abbcabbc', 'bcbbcaca', 'acaacccb', 'bcaacaba', 'abcccbcb', 'cbbbbbbb', 'bbccbaac', 'baccbaab', 'accccbab', 'cbbbacac', 'bbabbcbb', 'abbbcaba', 'acbaabab', 'ccbcabaa', 'acbbccbb', 'babaaacb', 'bbabbbbb', 'ccbacbab', 'accaccba', 'bbabbbcb', 'babaabbb', 'babbaccc', 'acacbbcc', 'bbbbbbaa', 'babacbcc', 'cbbaaabb', 'bbbbcabc', 'bcccacca', 'bacababc', 'caaaccca', 'aacbaccc', 'bbcbbbcc', 'cabcbbab', 'bcabcaaa', 'ccaabbaa', 'bbcabccb', 'acbaaaac', 'bcbbabca', 'ccacaaca', 'caaabcbb', 'bcbcabac', 'bbcacbac', 'abbacbcc', 'bbcaabba', 'aaabcaac', 'bbcbaaab', 'cbccbcba', 'abbaaaab', 'abbcabcb', 'aaccabca', 'bbabbbaa', 'bbaccaca', 'caaaabaa', 'bbabccbc', 'abbacbac', 'babcbbaa', 'aabaacbb', 'ccccbbca', 'aabccaba', 'babbbbcc', 'aaaaaacb', 'cbaaccba', 'cbcbaacb', 'abaaabab', 'acabbccc', 'cbbaacbb', 'bcbacbac', 'bbcacacb', 'bbacaabb', 'cbcaacba', 'bbcabbca', 'bababbaa', 'babaccab', 'ababbccb', 'caccacca', 'abbbcbbc', 'acccccba', 'bccbaacb', 'abacbbab', 'acaabbcc', 'cbbccbab', 'aacbccaa', 'acacbaaa', 'bacbccbb', 'ccbabbaa', 'babcbabc', 'bbbabbca', 'bcbbbcaa', 'cacaabba', 'cabbbcac', 'cabcbbcc', 'cbbcbbaa', 'acbcbabc', 'caababbc', 'cbbcbaba', 'cabacbcc', 'aaababaa', 'abaacbaa', 'abacbbbb', 'acbccaca', 'ccccbaac', 'ccaabaab', 'cbcacbbb', 'abbabbac', 'ccabcacc', 'babaccaa', 'abcbcbca', 'abbcbaca', 'abcabccc', 'baabbbbc', 'bcbcbccc', 'aaacaacc', 'bbcaaaac', 'caabcbcc', 'cbbbbaac', 'bbabcaab', 'ccabcbaa', 'cacaaaba', 'cbcbacca', 'acabcaba', 'bbbbacca', 'cacabacc', 'bccbcabb', 'babcccba', 'aacabaca', 'bbcbcbaa', 'abaccabc', 'ccccccbb', 'cabccbcb', 'babccaaa', 'aabcbcab', 'cbabbbbb', 'aabaaabc', 'ccccbccb', 'bcbbcbba', 'bbcbacac', 'accaabac', 'cbbbabba', 'baababcc', 'caccbaaa', 'babcccab', 'bcaaabac', 'babbacac', 'ababbcac', 'bcccbaaa', 'abbcaaca', 'cacbbcac', 'acaacbbb', 'cbacbaab', 'abbaacbb', 'bbbcccca', 'bcbbcbab', 'cbaabbab', 'ccbaccbc', 'caacbbbb', 'bbacccaa', 'aabbaaaa', 'bcbbbbac', 'babbbccb', 'ababbccc', 'aabbaabb', 'baaccccb', 'bbbaabba', 'cabacbcb', 'abacbacb', 'bcacaacc', 'cbcccaaa', 'bcbcbcaa', 'babcbcbc', 'caacbbca', 'bbbcaacc', 'baccacca', 'accbccbc', 'cacbcaaa', 'aaabbbaa', 'bccabcca', 'cbbcabab', 'cabccbab', 'cbabbbba', 'abcbcaca', 'baabbbab', 'bbcabacc', 'aaacbbba', 'aaaabaab', 'abbabcab', 'acaccaac', 'abcbcaaa', 'cbcbbccc', 'acbabaaa', 'aaacbbca', 'caccabcc', 'cacccabb', 'bcacbcba', 'acbaccba', 'cbabccbc', 'accabaac', 'caacacca', 'aacbbacc', 'cccabbcc', 'abbbabaa', 'acacbacc', 'aababccb', 'caccccac', 'babacacb', 'cbcccbbb', 'cbcbcabc', 'bacbacbc', 'abccccbc', 'bacbbaab', 'ccabcaba', 'aabbbbac', 'cbababcc', 'cbccaaba', 'acababcb', 'baccacbc', 'acabbcbb', 'babcaccc', 'accbccca', 'ababccaa', 'ccbccbca', 'cabaaabb', 'ccbabccb', 'abaccbab', 'bbccccac', 'ababbaac', 'babcbbcc', 'ccababbc', 'bbbaccac', 'aabbaacc', 'babcbbab', 'bcababac', 'bcbaccbb', 'abaacccc', 'bccbbbab', 'aaaaabbb', 'baccacab', 'cbacaccc', 'bbbcccaa', 'baacacba', 'bbbcacbc', 'cabaccba', 'cccabaca', 'abbacabc', 'abbbcaac', 'bccbccbb', 'babccccb', 'abacbaba', 'bacbcabc', 'aaacabaa', 'aacaacba', 'aabaacaa', 'cbbabbcb', 'accababb', 'caaacbba', 'aaaccaaa', 'ccbccacc', 'abaaabac', 'cabcabbc', 'ccabcaac', 'abbcacab', 'bcbcacca', 'abbaabab', 'ccbbccab', 'accacacb', 'ccbaaccb', 'aacbbcca', 'bcababcb', 'bacabbac', 'abcbbaca', 'abcbbcac', 'cabcbccc', 'baccbbcb', 'bbaaaccb', 'cbaaabbb', 'accbcccb', 'cbccacaa', 'bbbcbaab', 'aaabaabc', 'aacabbaa', 'cacbcaab', 'cbabccac', 'caabccaa', 'cbabcccb', 'aaccccbb', 'cbbabbab', 'bcbababb', 'bbcbabcc', 'accaccab', 'abccccaa', 'cccabacb', 'bccacaca', 'acbaacaa', 'accacccc', 'cacacabb', 'aaccbbba', 'bbbbbbbc', 'cabacccb', 'bcaababa', 'bcccbaac', 'caaaccba', 'ccbaaacb', 'baacbbac', 'aabbcacb', 'cbbbccac', 'accaccac', 'abaabaab', 'acbccbcc', 'acacabac', 'cbcbabba', 'abcacaca', 'bbcabbcc', 'accbbccc', 'ccbbbbaa', 'ccaaabca', 'bbcaabcb', 'aaacacaa', 'baabbbca', 'cabbcacc', 'aacbaaac', 'ccacbccb', 'cabbaccb', 'cccbaccb', 'abccabaa', 'bbaccbbc', 'aacbbbab', 'cbbbabcc', 'aacabbbc', 'bbbcbcca', 'ccabbcaa', 'cbcbaacc', 'caacaaaa', 'ccaabcba', 'ccabccaa', 'aacbabbb', 'cccbacaa', 'bbcbcabc', 'bbbccccc', 'bbbbabcb', 'acabccac', 'aaabbbcb', 'abcacacb', 'bcabaaaa', 'bbccabac', 'caabaccb', 'cbaccaab', 'baaccbab', 'cbaacaaa', 'ccbcacba', 'acababac', 'acbaaabc', 'bbcccaca', 'cbccaacc', 'bcabccbc', 'aaabaacc', 'ccacbacb', 'bacabccb', 'bbbacabc', 'baaccaac', 'cacacccc', 'caaabbab', 'bbcabaaa', 'aaaabcbb', 'bbaccbcc', 'ccaabbba', 'aabbbccb', 'aababcab', 'acacaaab', 'cacbbccb', 'aaccbcac', 'bcabacca', 'acacbcac', 'bbccbabc', 'baccbcca', 'cbbcbaab', 'abaccaac', 'cababbcb', 'acabaabb', 'aacccaac', 'caaaabca', 'bcbbbabb', 'ccbcabba', 'aacabcaa', 'babaacac', 'accbaaaa', 'baccbcac', 'acaccccb', 'aacaaaac', 'accccacc', 'bcabbbac', 'caaacaac', 'baacaaca', 'bbbaaaca', 'babccaac', 'bacabcbc', 'cccccbac', 'cbbbcbcc', 'cbaaaabc', 'bcbbbcac', 'acccbcba', 'cbcbbcba', 'aacabacb', 'cbbabbaa', 'cccbccab', 'babbaaaa', 'bcbbccca', 'baccacaa', 'abcaaaba', 'cccbcbac', 'baaaabab', 'cbabaacb', 'cacacbbb', 'acbcaccb', 'cabcbcaa', 'aaaaabab', 'acaabaca', 'acabcaca', 'ccabaccb', 'bcbbbaca', 'abcbacab', 'acbaccab', 'bbabbaca', 'abcbaaac', 'bcccacba', 'aacccbbc', 'bcaaccba', 'cbcaaccb', 'caabaabc', 'baacbbaa', 'acbcbbcb', 'bacbcaaa', 'acbaabca', 'bcaacbab', 'abccabcb', 'accabcbb', 'bbbbbabb', 'ccaaabba', 'acbcccba', 'accabcca', 'bbcbaccc', 'abbbbcbc', 'aabcabab', 'cabcccca', 'acccbaba', 'bbbbbacc', 'acccacab', 'aaaccacc', 'cccccbcc', 'caccaabb', 'caabcabc', 'cbcabcac', 'abbbcccc', 'cccbaaca', 'cababaac', 'acaacacb', 'bcabbbbc', 'bbaabcbb', 'aacaaccc', 'baabbaab', 'bacaacab', 'acaabccb', 'bcbbccac', 'bccacaaa', 'abacbabb', 'babbabba', 'bbbcabbc', 'cbbabbcc', 'cccbbccb', 'acbaacbc', 'ababacbc', 'ccbcbaba', 'bbbbccbc', 'bcabbbca', 'acabaaca', 'cbaabcac', 'abaaacac', 'cacabaac', 'bcaacbcc', 'aaacbbaa', 'bcabbccc', 'aabaccbc', 'baccaaba', 'bcababbb', 'caabbcaa', 'caabaaab', 'cbaabbca', 'acccabab', 'bcaabcbb', 'bacbbbca', 'bbccccbc', 'bbbacaba', 'aaaacaab', 'ccaabccc', 'aacbabaa', 'bcbbcacb', 'acabbacc', 'abaaacbc', 'aabcbbcb', 'aacaaabc', 'cabbbaca', 'abaacbbb', 'bccabbaa', 'ccabbbbb', 'bcbaacbb', 'ccbcbcba', 'babaaccb', 'acccbbca', 'ccbcbcca', 'abccabab', 'cacaccaa', 'acbcbaaa', 'bbbbcacb', 'abaaccca', 'ccabcbbb', 'aabaccba', 'aabccaca', 'caacbaab', 'bcaacaab', 'bbaabacc', 'cbacccaa', 'ccacabbc', 'caabccac', 'acacbcca', 'aaacbabb', 'cbcaaaaa', 'bbaacbcb', 'baabaabb', 'ccbbaaaa', 'bcbacabb', 'bbcbbcca', 'cbcacabb', 'bcbabcac', 'abababab', 'accbbacc', 'caaccacc', 'bacbbabb', 'caabcbaa', 'aabcccbb', 'acaaaacb', 'accbabcc', 'bbcacbbc', 'cbbabacb', 'cabbbbcc', 'cabaabcc', 'bccccabb', 'ccbcaabb', 'aabccbca', 'acbcbbbb', 'cbccbacc', 'aabcacaa', 'acbbabaa', 'babababc', 'ccababca', 'caabcbac', 'babcacab', 'abbbbcca', 'baabbbbb', 'bacaaaac', 'accabbbb', 'caacbcbb', 'ccbacbca', 'bbacbccc', 'bccbcbbc', 'bbbaaaba', 'cbaacbba', 'ababbaaa', 'babbbcbc', 'cacbcbaa', 'acabcacc', 'babcaacb', 'acabaaba', 'bacbcaab', 'cbbabcbb', 'abcbaccb', 'bbbabbbc', 'aaaaacca', 'baabbbaa', 'cbbacccb', 'aacbcbaa', 'acaccabc', 'aaccacba', 'ccccbaca', 'aaaaabca', 'aacbbaab', 'bbccbcbc', 'cbbacbbb', 'acabccab', 'cbaacacc', 'bbcccbcb', 'bccbacab', 'bbcbcbba', 'ccacbabc', 'ccaccabb', 'cbbaccaa', 'ccabbccc', 'caacacaa', 'caccbabb', 'cbacaaca', 'cabbabcb', 'cbbcbbcc', 'babbabcc', 'ccaaaacb', 'aabacbbc', 'aaacbaac', 'bbbaacaa', 'abacabbb', 'abaaaaaa', 'bcbcacbb', 'abcbabba', 'caaacccb', 'abbcaaaa', 'cabaccac', 'aaaaacac', 'caacccbc', 'cbaccabc', 'ccccacab', 'bcacacca', 'cacababa', 'bababacc', 'bbaaaacc', 'abcbbaab', 'aabcaaac', 'acbcbcac', 'cabbbcab', 'accbbaba', 'ababcacc', 'acacbbca', 'accacbbc', 'cbaabcbc', 'abcaabcb', 'abcaacba', 'baaacaab', 'acbcabbc', 'cbbcabaa', 'bbbbbabc', 'babacbbc', 'cccaaabc', 'acabaccc', 'aaabcaca', 'ccacabaa', 'cacaaaca', 'babacaba', 'ccbbabca', 'abcbaacc', 'cbcbcccc', 'aacabcba', 'babccaba', 'acaaabaa', 'bbaaaaac', 'caabacac', 'cababaaa', 'aaabbcbb', 'cbcacccc', 'aabcbbab', 'ccbbaccb', 'cbabbcab', 'cccaccab', 'accbcaac', 'baccbcbc', 'cbbabbac', 'aaccaacc', 'bbbcbbbc', 'accccbbc', 'cbabccab', 'baabccab', 'cccaacbb', 'bbacbcaa', 'bbccacbb', 'bcbacbab', 'bacccaac', 'abbccbbb', 'accbaaab', 'acbbbcbb', 'bbbacbbb', 'baacaacc', 'ccbabaab', 'baabbaaa', 'cababbac', 'bccbbabb', 'abbbabbb', 'babacaaa', 'bbbbbccc', 'cbabacab', 'aacccbab', 'aabbbaba', 'bbabcabc', 'bbabcbcb', 'abbaacca', 'bbbacaca', 'acccccbb', 'cbbcbabb', 'bcbccbac', 'ccbaccab', 'acbcabbb', 'cbbabcab', 'abaabbab', 'ccccbaba', 'cabbbaba', 'bbcaaccb', 'abaacacc', 'bbcccbcc', 'aaaacacb', 'ccbbbcba', 'aaabbcca', 'ccaabbcb', 'baababca', 'bbbccccb', 'abcabacb', 'acababba', 'cbccacba', 'baabcccb', 'cbbccacc', 'cbbcaaca', 'caabcaac', 'baacbaac', 'abbaccaa', 'abbabaac', 'accaacca', 'abbaabcc', 'abbbbbab', 'bbcabacb', 'bbbaacbb', 'abcaccaa', 'aabbacca', 'babbbacb', 'babcccac', 'bbcccccc', 'bccbbaac', 'ccaaaabb', 'acacccbc', 'cabbbccc', 'baaacaaa', 'cbcacacc', 'bababbbb', 'cccbaabc', 'acbbbacc', 'bbbcbccb', 'caccaabc', 'abaaabcb', 'cabbccac', 'cbaabbaa', 'acacbcaa', 'cccbcbcb', 'acabcbba', 'acbaaaab', 'cbbcacbb', 'abcabbab', 'bcaaaaba', 'cbbbcabb', 'ccbabcbb', 'caaabcaa', 'acbcbbca', 'bbbcbaac', 'acabacaa', 'abccacab', 'baabcbcb', 'bcccacaa', 'bbcaccba', 'cbaaaacb', 'acccbacb', 'ccacbabb', 'bbabccbb', 'cbaccbba', 'caaabbaa', 'acaabaac', 'ababaaab', 'caacabbc', 'acbbbcaa', 'cccbabaa', 'acabcabc', 'bcbacbca', 'accacbcb', 'caabacab', 'cbaaacbb', 'bbbaccbc', 'caaaabac', 'baaacbcb', 'aaccacab', 'ccaccccc', 'bbbabcaa', 'aabcbbac', 'aabacaac', 'cacaacba', 'acbaacac', 'ccbbcbcb', 'baabbabb', 'baaabcbb', 'cccbbcab', 'cbbbcbac', 'baaccbba', 'cccacbba', 'bccaccac', 'bacaabcb', 'bcbbacab', 'aaacacac', 'caabccca', 'accacbab', 'acbbabca', 'abaccbcb', 'bbbabcbb', 'aaaaaabc', 'cbaccacb', 'acbcaaab', 'cccbbbbc', 'abccbaba', 'ccbabacb', 'cabbbbba', 'cbcbaaaa', 'acacccab', 'babbbbbc', 'accacbac', 'abcabaaa', 'ccaccbcc', 'aaaabbab', 'abbbabab', 'acbabcab', 'aabaabcb', 'ccccaaab', 'bccaabac', 'aabbbccc', 'babccbaa', 'abacabcb', 'bcaabbab', 'bcbaaccc', 'baabaaab', 'cbcccaba', 'accbabba', 'accaabbc', 'acabbabc', 'caaabbcb', 'cccccacb', 'aaaabaaa', 'cbbaaaca', 'abcabbac', 'cbcacbab', 'cabcccbb', 'baaaabbc', 'bacabccc', 'ccabcbca', 'accbaaca', 'ccabcbbc', 'aaaabccc', 'caaaaaab', 'bbcbbcab', 'ccacbaba', 'baaabbcb', 'aaaccbaa', 'aabbcbac', 'cabbbcca', 'cbcbbaab', 'caabbbcb', 'abcbbbbc', 'babbaccb', 'aacbacac', 'ccbacaba', 'cbccbcac', 'caabbaaa', 'cbaabacb', 'baaacabb', 'caacacac', 'aaaaabbc', 'aaabcaaa', 'caabbcbb', 'caaccbcc', 'bcbbbbab', 'bacacacc', 'bbacaccc', 'cccaccbb', 'bcabbaba', 'cbbbccab', 'baaababc', 'bcaacacb', 'babbccaa', 'ccaabcbb', 'acabbaba', 'bacacbcc', 'acbacbba', 'bbacaabc', 'bcabbaac', 'bbbbcbca', 'abacacab', 'babcccaa', 'cbcabccb', 'bbbcaccc', 'cacccaca', 'baaaacab', 'bccaaaca', 'aaabaacb', 'baacaaba', 'acaaacbb', 'aaacacba', 'cbbabaac', 'bbaccbac', 'bccabaaa', 'cbccccab', 'cacacbcb', 'bbcbbbaa', 'bacacccc', 'accabaca', 'cabbbcbc', 'cbacaaac', 'baacabab', 'acacaccb', 'baabaccc', 'bcaccbcc', 'acbcccbc', 'abbbbcbb', 'bacccbaa', 'acbccccb', 'accbabaa', 'baacbcbb', 'baabacbb', 'cbbbcbab', 'babcabcc', 'cbbacabb', 'abbacabb', 'cbabbccb', 'baabcbbc', 'cccabaaa', 'ccccbcaa', 'acbbcbbb', 'aaaaacaa', 'aaabbaca', 'bbccbabb', 'ccbaabab', 'bbacbbac', 'baaaaccc', 'aababcac', 'acccbaab', 'acbacbbb', 'cbbbcbbc', 'cbcacaab', 'accaacbb', 'ccbccbab', 'acacbbbb', 'cacbaacc', 'cbccaabc', 'abccbacc', 'ccacacaa', 'cbbbacca', 'cccbbcba', 'abbccaac', 'abcbbabb', 'aaacbacb', 'cacbbbbb', 'cacbcaca', 'abbabcbb', 'cabaacca', 'baaacaca', 'bbbbcbbc', 'caaaccaa', 'bbbcbbac', 'aabbbacc', 'bcacabba', 'bccbaabb', 'cbabbbbc', 'bbaabcab', 'cbaccbbc', 'bccccbbc', 'bbbbaaca', 'cbcbbbca', 'acccabcb', 'cbccaaaa', 'baccbaaa', 'acabbcac', 'bcaabcac', 'aababbaa', 'cababcbb', 'ccabaaab', 'ccccccaa', 'bbcbbbbb', 'accccbba', 'cabbcbaa', 'baabbbcb', 'abaacbcb', 'aaaaabcc', 'baaccccc', 'aabcbccc', 'aacabbba', 'baccaccc', 'abacbcba', 'aabbaccc', 'accbaaac', 'acbbaccc', 'bbccbcca', 'cbacacac', 'cabcabbb', 'cbabcabb', 'bcbbcbac', 'bbcbcccc', 'ccbabbba', 'ccbaaaba', 'cabbcaac', 'cacbbcba', 'ccaccaac', 'cbaabaac', 'abcabbaa', 'bbbacbcb', 'babbabbc', 'abbcbcab', 'cbacacbb', 'caacccab', 'caabbbbb', 'accababa', 'cccabcaa', 'baaaacbb', 'acbcccab', 'cabccaaa', 'bccaacac', 'baacacaa', 'cbccaaab', 'abbcbcbc', 'bacbbbcc', 'cccbbbcc', 'abbbcbcb', 'cbccbbac', 'bcccaaac', 'aabaabcc', 'aababbba', 'ccbbcbaa', 'bacaaccb', 'acaabbac', 'accbbcbc', 'aabcaaab', 'aaaacacc', 'baccbbac', 'cbabcbac', 'cababccb', 'acbcaaac', 'bcbccbcc', 'cbabbcba', 'aaccbabc', 'cccbbccc', 'aabbbaaa', 'cbccaaac', 'ccccbcab', 'bbabbcca', 'ababbbba', 'ccbacbcb', 'cbccbcaa', 'bbabbaba', 'bcccaacc', 'acbacaac', 'babcbbca', 'bccaabbc', 'baccabba', 'bcaccaac', 'abacbaab', 'acbbbaab', 'accbbaca', 'cccaaacc', 'bacccbcc', 'bbbcbcaa', 'acbcccca', 'bbbbabbc', 'bccaabba', 'abbaaaca', 'cbacabba', 'abcccbab', 'aaabaaca', 'ccbaccaa', 'bbbccbcb', 'cbcccbca', 'cbbccbac', 'aaaaccab', 'acbabbab', 'caaaabbc', 'bcacabca', 'ccabaccc', 'accbccba', 'caaacabc', 'baacacac', 'baaacaba', 'bbbcbacc', 'abacccbc', 'bbabaaaa', 'baacabbb', 'cbbbacbc', 'caaccbbb', 'acbabcac', 'baacacca', 'ccbbccbb', 'acacbcbb', 'bcbacaaa', 'abbbacbb', 'bbbcbbca', 'bacaccbb', 'abbaccbb', 'bbacacbb', 'baacccbb', 'cbcbccca', 'caccacac', 'acbacacb', 'caaacbaa', 'cbcabacb', 'cbaaacaa', 'abcbbccb', 'acaaabbc', 'abcbbacb', 'bcabccac', 'cccabcac', 'bacabbaa', 'babbcacc', 'abacabbc', 'cabcccaa', 'ccabccac', 'bcccbcaa', 'cacccacc', 'cacacacb', 'cbacabcb', 'abaaabbb', 'acaabbbc', 'bcaaaaca', 'accbcabc', 'bbbaabaa', 'acbbbccb', 'bcacaaab', 'baacbaab', 'acccbcbb', 'aabbbaac', 'cbccaacb', 'cbbcbbbb', 'cbacbcac', 'bbcbabac', 'acbbbcca', 'ccbcabab', 'bacbccba', 'caababca', 'bccbbbac', 'cbacccba', 'aacbcbcc', 'bcbbbaab', 'bacbbcab', 'cbacbcbc', 'aabcabac', 'cbbccaca', 'abbccaca', 'cacbabcb', 'cccabcca', 'ccbbcbca', 'cbbbacbb', 'cccababc', 'ccacbcca', 'bcccbabb', 'bbbccbbc', 'cbcaaccc', 'ababcbca', 'bacbccaa', 'cbaccaaa', 'ccaaaccc', 'bcbccabb', 'aaabccca', 'aabaabac', 'cbbacacb', 'cabaabba', 'aabcccac', 'acccbbbc', 'bacabbbc', 'aacaaaca', 'caccbacb', 'cabbabbc', 'cacbbabc', 'abababbb', 'caababba', 'bccbbacb', 'bacaabbc', 'aaccacac', 'bbacbacc', 'babbcccc', 'bcabcabb', 'aaccbcbc', 'cbbcabbb', 'cccacaba', 'bababcca', 'cacaacca', 'caaccabc', 'accbcaca', 'cabbcaca', 'acaababa', 'ccaccbbb', 'bbbabccc', 'bbcacbcc', 'bacbabbc', 'baaabbac', 'bbbbbcca', 'babacaac', 'acbccabb', 'bcbaacca', 'abaaaccc', 'cbccccaa', 'abaaacaa', 'aabbbbcc', 'abccaaca', 'cacbcbbc', 'caaabacc', 'cbabaacc', 'ccababba', 'aabacbbb', 'bcbccaaa', 'aabbabab', 'ccaacccc', 'abaaaacc', 'cacccbaa', 'bcbcccca', 'acbcbacc', 'bcbbabac', 'aababaac', 'ccbcaabc', 'cbccbaba', 'bbcccaab', 'abbabbaa', 'ababcbcb', 'cbaaaccb', 'ccbacaab', 'bcaabacc', 'bbacacab', 'acccaaac', 'caaabbcc', 'cbabbacc', 'aaccccba', 'caaaaaaa', 'baacbbcc', 'acbbacca', 'caccbcbb', 'bbaaccca', 'abbbccca', 'caabbaca', 'abcbbbbb', 'acbabacb', 'bbaccabb', 'accabacc', 'baabaaaa', 'ccbcbaca', 'cccacbca', 'cbcbcaaa', 'cacbcbac', 'acaaacaa', 'bccbccac', 'bbbbacbb', 'accaabbb', 'bbabaccb', 'aacbaaba', 'cbbccaba', 'aabcabbb', 'acbaaccc', 'aabaaccc', 'accbaacc', 'aacccaba', 'acccccbc', 'babbcbcc', 'abbabccb', 'cccaabab', 'abbbaaab', 'aaacaaac', 'bbaabaaa', 'cbcabbbb', 'acbcacab', 'acaacabc', 'ccacccbb', 'caacbbaa', 'bcbcbcab', 'accbbabc', 'ccabccca', 'bacaaacc', 'bcccacab', 'bcbccccc', 'bbcabbac', 'aacaccca', 'aabcbcbb', 'cbbabbbc', 'bccacabc', 'baccbacb', 'ccaabaca', 'cbacbbbb', 'bcbabbbb', 'acabcbcb', 'acccaaba', 'cccabbbc', 'cbccacca', 'aaaabbcc', 'accaabcc', 'bbcaaaab', 'aaccbbbb', 'ababacac', 'cbbaabbb', 'bacaaabc', 'bbbbaacb', 'cccbaacc', 'abccbbbc', 'abaccaab', 'cbacabac', 'cbccacbb', 'bcbbcccb', 'bbacacca', 'cacbcabc', 'baaacbaa', 'cabbccbb', 'cccbcacb', 'cbaaaacc', 'ccbcabcb', 'aacacacb', 'babcabbb', 'cccaccac', 'acabbaab', 'abbbbabb', 'bbaabaca', 'cabaabbb', 'acbcbaac', 'cccbacba', 'abaacaab', 'bbaaabac', 'ccacaaab', 'cbcabaac', 'aaaaccac', 'caabacca', 'cabcabcb', 'baaacaac', 'bcacbaca', 'abaacbba', 'ababacab', 'abcbabac', 'bcabbaca', 'babbbaac', 'acbbabcc', 'babaaaac', 'aacbccca', 'bbcbcaba', 'bbcacabc', 'abcabcba', 'aaabbbab', 'cabbcbba', 'aaacabbc', 'acccabcc', 'bacabbcc', 'bbacabca', 'bcabacab', 'bcbacbba', 'aaacabab', 'acaababb', 'bbcbabbb', 'baaaccab', 'abbbccaa', 'bbaacabc', 'abbbcbab', 'bbbaabca', 'acbcccac', 'cbaaaaba', 'ccbbcaba', 'acbbcaab', 'bcbaabba', 'babbbcab', 'bcabccbb', 'baccbcab', 'baccbabc', 'bcabbabb', 'accbbcca', 'aababaab', 'cbcbabac', 'bcabbcca', 'ccbbabab', 'bcbbaabc', 'bcbbcbaa', 'bbccacab', 'bcbccaab', 'caccacba', 'bcacbbaa', 'bcbabccc', 'aacbcaac', 'bbcacbcb', 'acbaabba', 'abaacbac', 'ccbcbbbb', 'babbbabc', 'acaacbaa', 'abbcccac', 'accbacbc', 'aababccc', 'babbcabb', 'abaaccaa', 'aacacaab', 'bbabbaac', 'cabbaaba', 'caacbcab', 'bbaabaac', 'bccacacc', 'cbcbcbac', 'bccbbcbc', 'acbaacca', 'cbababab', 'aaacbaca', 'abcbccbb', 'cbaabacc', 'abacccab', 'cbbcbacb', 'cbaccccc', 'ccabcbba', 'bccbcbbb', 'cbacabcc', 'caccbbbc', 'ccacabac', 'bcaaabbb', 'aacabacc', 'cccaacbc', 'acacaaac', 'cbabcabc', 'babcacbc', 'bbbacbba', 'ababccac', 'acaccacc', 'cccaacab', 'bacbccac', 'bccabccc', 'cacbabca', 'bbcccbca', 'ababcbab', 'bacbcbbc', 'bccaaacc', 'baccbcaa', 'abbaaabc', 'ccabcbcb', 'cbaacccb', 'bcbacccc', 'aaabbcaa', 'abbacaba', 'abaccccc', 'bbbaabbb', 'babbbaab', 'cbcbbacc', 'acbacbab', 'aabaaaac', 'bccccbca', 'cbcccabb', 'bcacbccb', 'acbccbab', 'baabcbbb', 'cccbbbab', 'ccaccbab', 'bbabcbaa', 'bcccabab', 'acacccbb', 'aacacaaa', 'cacbbaac', 'cbbbccca', 'cabaabca', 'cabaabaa', 'bbbbaaba', 'cbcabcbc', 'acacacca', 'ccbcbbac', 'cbbcbaaa', 'aacabcab', 'accabccb', 'aaacbbbb', 'baacbcba', 'acbcbccc', 'abcbbcbc', 'acccabca', 'cbabbcca', 'aaccabbb', 'bacaabba', 'abaccbbc', 'acbabbba', 'accbaabc', 'bccaacab', 'bbabaacb', 'bbbacabb', 'caaaacab', 'aaacbbab', 'ccbbbbbc', 'acccbcbc', 'ababbaab', 'accbcacc', 'cacaacbb', 'bacbaacb', 'caaabccc', 'bcbaaaaa', 'abbbacca', 'abacabaa', 'bacbacca', 'bccbbbcb', 'bcbbccaa', 'bbbababc', 'cabcbacb', 'aacacbab', 'cbbbcabc', 'bbaacbca', 'bbccaccc', 'ccacaaac', 'bbabbcab', 'bbaabaab', 'cbcccaac', 'cbcbaaab', 'bbabcccc', 'caaababa', 'acbbaacc', 'aaccabbc', 'bacbccbc', 'acaacbba', 'cabccacb', 'acabcbaa', 'aabbcbca', 'abaabbbb', 'abaabcca', 'aabccabb', 'ccbcabca', 'aababbbc', 'abbbaaba', 'bbaaabaa', 'cbbbaccc', 'baaaacaa', 'acaaacac', 'bcacccca', 'cacabbcb', 'bbaacabb', 'aaccbaac', 'cbbbcbca', 'cbacaccb', 'acbccaac', 'bbcabcbc', 'cbcaccbb', 'cbabccbb', 'abbacbbb', 'abaccaba', 'cbaabccb', 'bcbbbccb', 'cabbbbac', 'aabbbcaa', 'bcbaccab', 'abbaaacb', 'bbcbabcb', 'baaacacc', 'cacbbaba', 'bcabaabb', 'cbbbacba', 'cacacccb', 'bcbaccba', 'ccabbaba', 'cacbbcbb', 'abbcccbb', 'bacababb', 'ccaacabb', 'acaaacab', 'acacaaaa', 'cbcbabbb', 'cbcbcbaa', 'bbbcabab', 'cbcabbba', 'aabbbaab', 'bbcbcaca', 'bacbbcac', 'cabacbca', 'cacabccb', 'bcabcaab', 'bbbababb', 'abbcabca', 'abaaaccb', 'bbababca', 'ccacaaba', 'bacbbccb', 'baacaabb', 'bbabcccb', 'aaaaaaab', 'bbcbbaca', 'abbabaaa', 'cccaaacb', 'cbaaabab', 'bccbbaab', 'bacababa', 'bcbbaaaa', 'acaaaccc', 'bbaaabcc', 'babaaaaa', 'accabaaa', 'aaabccbc', 'aaaabbca', 'ccccabaa', 'cabbabcc', 'aaacabbb', 'acabbbab', 'bcbaabaa', 'abbbcacc', 'cbcabbcc', 'bacabacb', 'cccbbabc', 'cbacbbcb', 'bbabbbbc', 'aacbacab', 'bbbbabcc', 'abbaabbc', 'baabbacb', 'bbcabcca', 'acccbccb', 'ccbabbbc', 'acbabccb', 'ccabcccc', 'acacbccc', 'cbcbbbcb', 'ccbaabcb', 'bbbaabac', 'aaccbcbb', 'caacbcba', 'cabbbaab', 'abcccaca', 'aaacabcb', 'bbbabbac', 'abacbcca', 'bbaccbaa', 'abcbabbb', 'caabaabb', 'acbbcbac', 'ababaccb', 'aabcabcb', 'bcbbbbbc', 'cbbccccb', 'abbcccab', 'bbcacabb', 'cbbcbbcb', 'bcaaccac', 'bcbaacba', 'bcaacacc', 'bcbbbcbb', 'abbacbba', 'ccabbbaa', 'bbbbaabb', 'baabbcbb', 'abaccacc', 'cacccaab', 'ccabaacc', 'cbacacca', 'cbbcbcca', 'cbbaabaa', 'bbcaccca', 'ababcaac', 'cbbaccac', 'baacccac', 'bbcabbcb', 'acccaaab', 'bacaaccc', 'ccbbccaa', 'ccaccaaa', 'cbbaacaa', 'cbabbbca', 'cbcaaacb', 'bccbccaa', 'abcccbcc', 'babababa', 'aabcacbb', 'accaabab', 'cacabaca', 'bccaaaab', 'bbcbbacb', 'accaccca', 'bcabcbac', 'ababcacb', 'bbcaacab', 'babbbccc', 'acaacaca', 'aaaccabb', 'bbacbbaa', 'acccbabb', 'bcccbacc', 'cbbbbbcb', 'bcaaaccb', 'aaccccac', 'aababcaa', 'bccbccba', 'bcbacbcb', 'bbaaaacb', 'ccbcaaca', 'abacaabc', 'cbbabacc', 'abaabcba', 'cccabacc', 'accabacb', 'acbacccc', 'cbcabcbb', 'cccccbbc', 'cacacbaa', 'ccccbcbb', 'abaabbcc', 'aaababbc', 'bcabaaac', 'abaabcbb', 'cbcabaab', 'abbbabba', 'aaaacabb', 'cabaccab', 'abcbabca', 'cbcbcbbb', 'acbaccbb', 'abbcaabc', 'acbacccb', 'ababacca', 'cbcbacbb', 'ccaabbac', 'abbacaab', 'baaaaaaa', 'acabccca', 'cbcbaccc', 'bacbacab', 'baccbbba', 'abbaacac', 'ababcbbc', 'cbbccabb', 'babaccac', 'aabaabab', 'cccacaca', 'bcbbcbbb', 'cccbabac', 'baaabbbb', 'caccccbb', 'ccbcccba', 'babccbab', 'ccabbaca', 'ccccaccc', 'aabcaaba', 'bcccbcbb', 'cccccabc', 'aababbcc', 'bcbbaccb', 'bbbabcac', 'ccababcc', 'aababcba', 'bbabccab', 'aaaccbbc', 'ccccabab', 'accbbbbb', 'abaabccc', 'ccccccba', 'acccaabc', 'babbabac', 'aabbcccc', 'abbccabc', 'cacbaaba', 'cbaaacac', 'cbabccba', 'bccbabbc', 'aaccaaca', 'cbababca', 'bacaacba', 'bbbcaccb', 'cbbbbccb', 'abbaaccc', 'aacaaaab', 'cccacaac', 'ccccbcbc', 'ccabacbc', 'caaacbbb', 'aabccabc', 'acacbabb', 'baccccca', 'cabcccab', 'aabacabb', 'ccaccabc', 'bcbabbca', 'aaaabbaa', 'baabcbaa', 'baacbbca', 'aaabaaab', 'bcbbccbc', 'ccabaaaa', 'abcabacc', 'aaaaabac', 'aaaccbab', 'cbccacab', 'bbcabcbb', 'abcbbcaa', 'bcbaaaab', 'acacaaca', 'bacbaaac', 'ccaacbbb', 'ccccbacb', 'aaaaccbc', 'bbbbbbca', 'aacbcacc', 'cbacccab', 'bacaccaa', 'cabacbaa', 'acbcabca', 'cccbbbba', 'cabaacbb', 'bacacabc', 'ccbbbcac', 'accbbcab', 'aacccbcb', 'abcacbaa', 'bbcbbabc', 'caaccbcb', 'ababccbb', 'abbbbcaa', 'abcbacac', 'cacbcabb', 'babbabcb', 'cbacaacb', 'accaaacb', 'abccabbc', 'abccbcbb', 'ababbbbb', 'cbcbccab', 'cabcbaca', 'bcaccbcb', 'bbaccbab', 'bbbcaaaa', 'acbcaacb', 'abccbaac', 'bcabcbbb', 'bbacbccb', 'cbacbcba', 'acabbbca', 'bbaacccc', 'bccccacc', 'cabcabcc', 'baacaacb', 'cbbccabc', 'bbcbcbbc', 'bbabcbcc', 'bcbcbccb', 'acbcabaa', 'babcbbba', 'cccbacac', 'bcbacabc', 'ccbaabcc', 'ccabbaac', 'aaccbbbc', 'ccbbabbb', 'cccbccaa', 'bbbbbcaa', 'bababbca', 'bcaaacbb', 'baabacac', 'babacbac', 'bacccbcb', 'bcbcccab', 'cbabbaaa', 'acbaabbb', 'acccacca', 'aababcbb', 'accaccbb', 'acbababa', 'babbccba', 'abbbaaac', 'ababbbcb', 'accacaca', 'ccbabccc', 'abbbaacb', 'cbcccaca', 'babcaabb', 'bacaaaca', 'acaacbca', 'bcaacbbc', 'bacbbcbb', 'babaacaa', 'acbbaabb', 'acbcbaca', 'ccbbccba', 'cbabcbcb', 'abcacbbc', 'bcacbaac', 'baaabcbc', 'ccaccacc', 'ababcbba', 'cacaaaaa', 'bcaabbaa', 'babbbbac', 'bcbbbacb', 'acbbbbcc', 'acbcacbc', 'aabcaacb', 'babcaaab', 'bcbbaacc', 'bcbccabc', 'bcbbbcab', 'cbcbcbca', 'ccbaabca', 'cacccbcb', 'cbcbbabb', 'cbcbcacc', 'aacaabbc', 'ccbcaccb', 'acbbacbb', 'aaccbcca', 'abbacbcb', 'aaabaccc', 'bbaaccbc', 'ccbbbabc', 'abcaaaac', 'aabacacc', 'acaccacb', 'acccbcac', 'abcbcccb', 'bcababca', 'abacabca', 'aabcbcac', 'bbaaccaa', 'abbccbba', 'bbbccbca', 'cbaccaac', 'bbabbcac', 'cabbbaaa', 'acbacbca', 'caccabac', 'cbccbabc', 'aaaaaaaa', 'cbaaabaa', 'babcacaa', 'cbabcccc', 'aaabcacb', 'aababbab', 'bcbaabbb', 'bbccccab', 'acabbcaa', 'caccbabc', 'acabbbbb', 'bcccbaba', 'bbcbcccb', 'cbcabbbc', 'cabcacca', 'aacbacca', 'bbccaacb', 'bcabbcbb', 'bcbabbcc', 'accaabcb', 'acbabbbc', 'acccaccb', 'baacccaa', 'bbabbccc', 'bacccaaa', 'cababbbc', 'cacaaabc', 'accbbccb', 'ccabbacc', 'bbbbcaaa', 'abcbbccc', 'baabccac', 'cbaaaaca', 'aaababab', 'ccbbbcab', 'cacbacba', 'abaabacb', 'abacbbac', 'bccacbbc', 'baacbcab', 'bccccaaa', 'bbabaaac', 'bcbbbbbb', 'bcaabcba', 'aaccbaaa', 'bbcaaccc', 'bccbabaa', 'aacaacab', 'aacabcbb', 'cccccaab', 'ccbbaabc', 'cbabbbac', 'abbbbbcc', 'ccaacacc', 'acabcbcc', 'cbcbaaca', 'bcbcbcba', 'cbbaabcc', 'accaaccc', 'bbaaabca', 'cbccbbbc', 'cbbccaaa', 'ccbbbcbb', 'ccababac', 'ccabbaaa', 'bcccbcca', 'aaaccbbb', 'cbccccac', 'bbbcacab', 'bacccccc', 'aaaabbbb', 'abbbccac', 'bcabcaca', 'abccbcab', 'bcbccccb', 'caacacbc', 'babaaabb', 'bccaccaa', 'acbccbaa', 'baababbc', 'abacccaa', 'bbbabbcc', 'bcbababc', 'cbaccbab', 'cbbacaab', 'cbcccbcb', 'bcabccab', 'bcacbbab', 'bbacaaba', 'ccabcbac', 'abcaabac', 'baabccca', 'cbbabbba', 'aaaabbcb', 'bababcac', 'bcabacaa', 'cbcaccac', 'cbcabcca', 'bbaabacb', 'abbccccb', 'babbacbc', 'ccacccbc', 'bacacaac', 'acacabbc', 'abacabab', 'bcccacbc', 'aaabaaba', 'cbaacabc', 'abbacacc', 'acbcbcba', 'baaaccaa', 'baabbbba', 'aacbbcab', 'accaacab', 'accababc', 'aabacbba', 'bacaaabb', 'cccbbcca', 'bbacaaab', 'bcacabaa', 'aacaccba', 'bbaccacc', 'bcabcccb', 'abcabbcb', 'bcbabcaa', 'abcccccb', 'ababbcaa', 'baccaacb', 'aacacccb', 'abcbaabb', 'acbaaaca', 'ccbbbcbc', 'aabbbbaa', 'abcbcacb', 'ccacccab', 'ccaaaabc', 'cbcccccb', 'baabccbc', 'caacbaca', 'cbbaacbc', 'ccbcbcbb', 'bbacabbb', 'bcbacbbc', 'abacacca', 'cacbacaa', 'cacaccba', 'baaababb', 'cbabcaca', 'aaacbcac', 'bccbabcc', 'cabacaab', 'cbacacab', 'abaabcbc', 'cabbcabb', 'aaababac', 'aababaca', 'caaaaacc', 'bacccbba', 'bbaabbcb', 'bbccccbb', 'acabcabb', 'cbbacaac', 'ccbacbbb', 'cccccccc', 'bbacbbbc', 'babcbacc', 'bcbcacac', 'acccaacb', 'baabcaca', 'caacbaac', 'accbbbba', 'bbbcabca', 'aaccbbcb', 'acbabcbb', 'bcaccbac', 'bcccabca', 'bccabbcc', 'babcbccc', 'abacacbb', 'aaccbccc', 'bbccccba', 'cbbabcca', 'cacababc', 'ccbabcab', 'bbbaacab', 'abccbbaa', 'acaccbab', 'acacbbab', 'acacaacb', 'aacaaaba', 'caccbbab', 'bcbacaac', 'caccccab', 'acaabcac', 'bcabbbba', 'acbacaca', 'acbbcaba', 'babcbbbb', 'bacbaaaa', 'caaacacb', 'bcaabaca', 'aabbaabc', 'ccbabaca', 'abaccbac', 'cbacbaaa', 'abababca', 'bbabaaba', 'abcbabaa', 'bbcbaaca', 'cccbaccc', 'acccacba', 'acbcacbb', 'aabbbbcb', 'ccbacacb', 'cacbacca', 'aaacabcc', 'cbcbabcb', 'acbcccaa', 'cbacbacc', 'bacbabcc', 'bbcaaacc', 'aabbacaa', 'ababaccc', 'acacccba', 'bcacaaac', 'bbcacaca', 'bbbbcbba', 'aabcaabc', 'cabbbbab', 'acbbcbba', 'abcaaccb', 'ccbcccac', 'abccbccb', 'abcccbca', 'bbcacbbb', 'caaccabb', 'cacccacb', 'caabbcab', 'cbaaccbc', 'bbaccabc', 'abcabccb', 'caccacbc', 'caabcbba', 'bccacaab', 'bccbabcb', 'cccaacaa', 'cbbbabbb', 'bbbaccbb', 'acbcabcc', 'abcbbaac', 'abcbcbba', 'cccbbbac', 'abaacaba', 'cbbcccbc', 'acbbcabc', 'cbacbccc', 'bcaccbbc', 'ccccbbcc', 'baaabbca', 'caaababc', 'accacacc', 'acacbbac', 'caacaaba', 'ccbaaacc', 'aaccccaa', 'caabccab', 'cacacaaa', 'cabcbbbb', 'bcbccaba', 'caaaacbb', 'bcbaaacc', 'bcacccba', 'bcbcabca', 'caababaa', 'abccaaaa', 'bacaccba', 'cbccbbbb', 'cbcbccba', 'abbbbccc', 'ccbacbcc', 'cbabbaba', 'cbbaabcb', 'caacacbb', 'cccbbbbb', 'cccbcaaa', 'bbbcacba', 'babcabab', 'abccaaab', 'aacbabac', 'bbaacbba', 'ccaabcca', 'ccababcb', 'cbaaccab', 'bcaaccbb', 'bcaabcaa', 'abaaabba', 'abbcaaac', 'bccabaab', 'acaabbaa', 'cabababb', 'caccbbac', 'abcccaaa', 'aaabcaab', 'bbbaaaaa', 'cbaacbab', 'ccabacca', 'cabcbcbb', 'accbcbab', 'bcbbacba', 'bcaabbbb', 'cbbbbbcc', 'bbbaccaa', 'abcaabbb', 'aacbaabc', 'abbcabcc', 'aaabacab', 'aacccbbb', 'bbcbbbbc', 'abccaabb', 'cbacbabb', 'aaaacbac', 'babcbcbb', 'ccabcaca', 'acccbbbb', 'baccccac', 'aaabbaaa', 'bcaabbcc', 'aabbaaac', 'aacabaaa', 'bcccbcbc', 'abacbcab', 'ccacacab', 'cabaacbc', 'ccccbacc', 'ccbbcaca', 'bcbcabcb', 'aabccccb', 'bccbbcaa', 'ccccacba', 'acbbbbcb', 'abcbaaab', 'abbcbbaa', 'abcbacbc', 'bbcbcbab', 'abbbccba', 'ccabcaaa', 'cccbcccb', 'acbccbbc', 'acbacabb', 'caacbbab', 'cbcacbac', 'cbcccbcc', 'ccaccbca', 'abcbbabc', 'bccbbcac', 'abccaaba', 'bababcbb', 'acbcbcbb', 'bbaaacaa', 'bbaccaaa', 'cababbab', 'cccccbba', 'bbcbabba', 'cbcccacc', 'cabbccab', 'baacbccc', 'bbcbacba', 'cacbbcab', 'ccbbabcc', 'cbaacaac', 'cbbaabac', 'cababaab', 'bbbcabbb', 'acabcbbb', 'bccccbab', 'acbccaaa', 'accccbca', 'caacabba', 'cabacacb', 'acacccaa', 'caccbaab', 'bbbbccac', 'bbbccaab', 'ccccacca', 'acccbcca', 'ccbaacbb', 'cababacb', 'cbacbbbc', 'caaacabb', 'abbbabca', 'cbaabcca', 'bbcabccc', 'aaaaccba', 'abbacacb', 'acbcbccb', 'abcbcacc', 'bcacccbc', 'bacacbca', 'bbcbcacc', 'cbbcaabb', 'aabcbacb', 'bbccacba', 'aababcbc', 'bcbbabbb', 'babccacb', 'baccabbb', 'acbcacca', 'babbabca', 'cbaccabb', 'baccabac', 'cbaacbbb', 'ccbcabbc', 'bcaacbac', 'bbaccccb', 'cbaababb', 'bbcbbacc', 'abbabbbb', 'bcbbccba', 'babcccbc', 'bbacbbcc', 'ccabaaba', 'cacbcbab', 'ccabacab', 'bbcbaaaa', 'accccbcb', 'cbaabbbc', 'abacbbbc', 'aacbbaca', 'bcbbcccc', 'abcacbcb', 'babbbaaa', 'accaaaaa', 'babcbbcb', 'baccbcbb', 'abcbbbcb', 'abbacbaa', 'aaabacba', 'acbbaaac', 'babccabc', 'abbcbabc', 'bacccbac', 'bcbcaaac', 'aaabaccb', 'acaaabba', 'cbabbcbc', 'cbccabbc', 'babbcbaa', 'bbbbccaa', 'ccbaacba', 'cbaabcab', 'bccbaaaa', 'aaabbabc', 'bcccbbaa', 'baabacab', 'abaabcac', 'acacbcab', 'caabcbab', 'aabacccb', 'abbbbabc', 'abbccbac', 'bbababba', 'cbaacaba', 'cbcaabba', 'aabacbab', 'abbbabac', 'babbaaca', 'bbcbbbba', 'bcbbccab', 'bacbbccc', 'abccbbca', 'cbabbcac', 'caaacaba', 'cbccabac', 'acbbcaca', 'acacbaab', 'aaaabbbc', 'cacaacab', 'acabcbbc', 'cbaaacba', 'bccaaabb', 'bcaaacaa', 'cabcbcba', 'cccbbaab', 'aaabbacc', 'abbbcbac', 'ccaacaac', 'aabcbbaa', 'cbbaabca', 'aaabcbcc', 'baabccaa', 'cbcccbab', 'aabccbcc', 'abacbbba', 'bcaaccab', 'cccccabb', 'bbccbccc', 'aacbcbcb', 'bbbaabcb', 'abbababc', 'cccbcaab', 'cbbbcbcb', 'bcacbcbb', 'aacaccab', 'bababcab', 'bbbcbabc', 'caccabaa', 'aaacbaaa', 'aacbbbcc', 'bbbbabca', 'aabacbac', 'cbcaabbb', 'cacaabac', 'bcbcaaca', 'accbcbcc', 'aaacbaba', 'acabbbcc', 'bbcaacba', 'cabbaaac', 'aaacbccb', 'babacabb', 'cabbaaca', 'acabaacb', 'bcbbabab', 'cbaaacab', 'aaccbabb', 'abaacacb', 'bcaccaca', 'aabbabac', 'cbbbbcca', 'bcacbbbb', 'acbccaba', 'cacbabcc', 'bbbccbcc', 'abccbcac', 'cbbccbaa', 'abbacbab', 'aabcabbc', 'cabccbcc', 'acabacbc', 'cabbbabc', 'babbaacb', 'cbcababc', 'accbcbcb', 'ccabbabc', 'aacacabc', 'accaccbc', 'aabaaaca', 'cccacabc', 'bacbcbcb', 'bacbbaba', 'aaaccacb', 'bcbbbaba', 'baaaaabb', 'cabbaacc', 'cccccbab', 'ccbacacc', 'bcccbbac', 'aaabbccb', 'cbcbbbab', 'abbabaab', 'baaabbba', 'abacbbcb', 'cacabbaa', 'ccabacbb', 'cccabbbb', 'babacaab', 'bcaccbbb', 'aabcbccb', 'acccbcaa', 'bbbcccba', 'cbbabcba', 'bcacbccc', 'abccccac', 'cbbaaaba', 'aaccbbcc', 'bcaaacca', 'cabcaacc', 'ccccbaab', 'bbacbcca', 'abbbcabb', 'ccbccbcb', 'baabbabc', 'bbababcc', 'cccbccca', 'bbcbbaba', 'cabaccca', 'bbcaabbc', 'cbabbbaa', 'baccbabb', 'bbacbaba', 'acbcaacc', 'bccccbbb', 'accbbaab', 'cbbbbbba', 'cbaacbcb', 'aaabbabb', 'aabcaacc', 'aabcacab', 'cbacaabc', 'abbbbbaa', 'baaacbcc', 'cabbccbc', 'cbbacaaa', 'ccbbacac', 'babaaabc', 'cccccaaa', 'bbbacbca', 'cabaacba', 'abababcc', 'bbcccabc', 'bccabccb', 'bbaacaac', 'caaabbac', 'bbbbbaac', 'abcacabc', 'acaabbca', 'cacbbbcc', 'cbbcccba', 'bcccccab', 'bbacbcbb', 'aaabccab', 'aaaaaccb', 'baabbcac', 'bbcbacbc', 'ccbaacac', 'abccbaaa', 'aabacbcb', 'aaababcc', 'aabcacca', 'accbacba', 'ccbcaaab', 'aaaacbab', 'abccbabc', 'caccbbcb', 'babacaca', 'ccaacbab', 'abcaabca', 'bbaccaac', 'ababbcab', 'baabbbcc', 'abbcbaab', 'bcabcbca', 'aabaaaab', 'bbbcbccc', 'cabbcbbc', 'acccabbb', 'cbaacbac', 'bcaaccbc', 'bacbcacc', 'cbabacac', 'aabbbcca', 'abaabacc', 'abababcb', 'ccaacbcb', 'babbbbba', 'acabacca', 'abbbcaaa', 'baacaccc', 'acaabbcb', 'ccaaccaa', 'babaaacc', 'ccbbcabc', 'caaaacaa', 'baaaccba', 'ccccabcc', 'cccbcbbc', 'accccbaa', 'ccbccbcc', 'bcbacbbb', 'abcbaaaa', 'acbabbaa', 'ccabccab', 'acbbcbca', 'bcccabcc', 'aaaacaba', 'ccaaaccb', 'acababbc', 'cacbbbcb', 'caacbacb', 'bcaccbca', 'bcaaaaaa', 'acbaaacb', 'abbccbaa', 'cababccc', 'ccbabcaa', 'abcabcbb', 'abcabbba', 'ccbbbbba', 'ababaabc', 'bcbbcbcb', 'caccbacc', 'acabcacb', 'accacaab', 'cbcbabcc', 'acbbbabc', 'bbcacbba', 'bbcacaab', 'ccbbcbbc', 'bccbacbc', 'bcccaacb', 'cacabbac', 'aaccaabb', 'caccccaa', 'ccaaccac', 'bbcccbac', 'aacaabab', 'acaaccca', 'cbbaccba', 'abccacba', 'caabcbca', 'cbbbabbc', 'aaaccbba', 'cbbbcaba', 'acaacccc', 'bcbbabaa', 'aaacbcbb', 'bcacccac', 'abbcbbca', 'aacbbbbc', 'aaababba', 'acababbb', 'aaccacbb', 'aaabacbb', 'cacbabbc', 'bbccabbc', 'bcabbacc', 'cacabbbc', 'cacabbca', 'bbbcaacb', 'cbabcbbb', 'cacbbbac', 'babcaaaa', 'cabcaaac', 'aabcccbc', 'ccacbaca', 'aacbbaaa', 'bbacbcac', 'aacccaab', 'babacabc', 'abbccbab', 'bccccbcc', 'cbbaacca', 'bbbbabbb', 'aaccbccb', 'ccbbabac', 'abbaacab', 'bccacbab', 'abcccaab', 'bcacbacb', 'bbcbabaa', 'acaaabac', 'ccbbacbc', 'babcabac', 'baacaaaa', 'acaabacc', 'aaccaaba', 'abaacbbc', 'bcbbbcba', 'ccaabcbc', 'aaccbcab', 'ccaabcaa', 'abbbacba', 'acbacaab', 'cacccbcc', 'cbccbbab', 'cbaabccc', 'caaacbcc', 'aabbbbba', 'ccbbaaac', 'bcaabcca', 'acbbbbca', 'babbcacb', 'bbbabcbc', 'cbcccbac', 'caccbcca', 'ccbaaabb', 'ccaaacca', 'bacabacc', 'aabacbcc', 'cccbbacc', 'cbcabcba', 'baccccaa', 'cccacbbb', 'bcaaaacb', 'ccacccaa', 'cabaaaba', 'cbabcbab', 'bccbaabc', 'cabbacbc', 'bbaaaabb', 'bbacbbcb', 'cbcccabc', 'acbcbbac', 'cbbbacaa', 'ccbcbccc', 'cbbcbbac', 'ccbbbbca', 'cbaabaca', 'ccacaccb', 'bccccbaa', 'abccaaac', 'bcbaacac', 'cacaabca', 'bbcaabca', 'cacbacbc', 'aacccbca', 'baaaabcc', 'babbacaa', 'babbbbcb', 'abacbaca', 'cbbcccab', 'abbaaaba', 'cbccaccc', 'bcbbbbca', 'bcaacaac', 'cbbbcacb', 'bcacacbc', 'babaacba', 'bbccccaa', 'cacbacbb', 'cbaaaaac', 'bbbbcaab', 'cacabcaa', 'babacbab', 'cccbacca', 'bacbcbac', 'caccbcab', 'aaaacbaa', 'accbccac', 'ccacacbb', 'ccaacbba', 'bcbccacc', 'baacbbbc', 'bbbbbcba', 'cacacbbc', 'baaacbab', 'cccbbcbb', 'accaaaac', 'baababcb', 'abbabacc', 'bccbbcba', 'cbccbccb', 'aabaccca', 'cbbaccbb', 'cabcbccb', 'ccbaabba', 'cbbbaacb', 'bacaacbb', 'acbaacba', 'cbcbcacb', 'cbbbbcba', 'cacacaca', 'aabcbcbc', 'cbbcbbab', 'abcbbbaa', 'bccaccbb', 'baaaccca', 'aacacacc', 'bcabbcba', 'bcaacabc', 'baabaacc', 'acbabbca', 'ababbacc', 'cacbbcbc', 'bbbbabba', 'acabbaca', 'bbccbbaa', 'caabbcba', 'aacaabcb', 'acaacbab', 'bbaaabbc', 'bbcaabab', 'bbcbbcba', 'cbbaacab', 'cccaccbc', 'acbcaaba', 'cababaca', 'abbabcac', 'abccabcc', 'bbcbbcac', 'bbabaaab', 'abbbaabc', 'cccabbab', 'bcbabcba', 'bbbabacc', 'abbcbcac', 'cbabbaab', 'acbabcbc', 'aabaabaa', 'bcbabbbc', 'bbabbbba', 'cccbbbcb', 'ccbacbba', 'abcccaba', 'caaabbba', 'caabaccc', 'cabaabac', 'cbbbcbaa', 'bbcbacab', 'abbbbaab', 'ccabbccb', 'ccaccbcb', 'bbabcbab', 'cabbcaab', 'cbbcbbca', 'acbacaaa', 'abbcacca', 'baaacbba', 'bccabcac', 'abbacbbc', 'caccbbca', 'aaccbaca', 'acbbccaa', 'aacbacbb', 'bbabaccc', 'bbbacacc', 'ccbabcbc', 'bcaaabab', 'ccbbcacc', 'abacaccc', 'abcbbcca', 'accbcacb', 'abcaccba', 'baaaaabc', 'cbabcacb', 'cccaabbb', 'bbbaaccc', 'baccabab', 'bacaabbb', 'bcbccbaa', 'bacaabaa', 'ccaaabcc', 'accabcac', 'bccbbccb', 'acbbbaca', 'bcabaabc', 'cababcbc', 'bacabbbb', 'aabbccba', 'aacabbca', 'accccaba', 'bbabaabb', 'cbcbabbc', 'baaccbca', 'bccaccbc', 'caaccccc', 'acbbbbbc', 'abbbbaca', 'bcbabbba', 'bbabacca', 'caacaacb', 'bcbabccb', 'bbbbbaaa', 'bcccabaa', 'abacacbc', 'baabbaac', 'cabcccac', 'bccbaaac', 'bcbbcaab', 'abbabcaa', 'bbaacaca', 'cbacaaaa', 'baababba', 'aaaccbcc', 'aacbbccc', 'abcbcabb', 'bbbcccac', 'aacbaaca', 'abcbcbab', 'aaababcb', 'bbbccabc', 'bacaacbc', 'bacacacb', 'aaabcabb', 'babbcbca', 'cacccabc', 'bbbcabcc', 'abaccbca', 'caaabbca', 'bcbcabba', 'bcbaabab', 'acbbcbab', 'bbbacaac', 'acccccaa', 'baccbccb', 'caacbbbc', 'bcbabbab', 'cabcaabc', 'abcabbcc', 'ababcaab', 'abaabaac', 'baacaabc', 'bcaccacb', 'acbaabcc', 'bbcabbbc', 'abaabaaa', 'bccaccca', 'abcacbbb', 'babaabba', 'cacbaaaa', 'ccabbbcc', 'abcbccca', 'baabcacb', 'aabaabbb', 'ccbcbbcc', 'cabccbba', 'cbbababb', 'bacbaccb', 'abcbaccc', 'aaaacbbb', 'abaabcab', 'bcbbaabb', 'bbacbaca', 'bbcaccbb', 'bcbabcca', 'abbccacb', 'bbbbacbc', 'aabccccc', 'bcaaaabb', 'babcbaba', 'cabaabcb', 'ccacabba', 'caccabca', 'baaabaac', 'cacaccbc', 'ccacabab', 'cccaabba', 'cbbaabba', 'cbbacbab', 'bababccc', 'bcccaaaa', 'abacaaba', 'bacacabb', 'aaaabcba', 'aacccaaa', 'ccabaabc', 'cbcbbbbc', 'cabcaccc', 'abccacca', 'bccbcaaa', 'acbbbaaa', 'babacacc', 'bbbcbaaa', 'bccabcba', 'acbcaccc', 'cbbbbacb', 'cbbacccc', 'bbacacaa', 'cabbaaaa', 'ccbccaba', 'abbccacc', 'bbbabaac', 'cacabcba', 'accaaaba', 'aaabbbca', 'abcbcbac', 'caccaaaa', 'bbaaacba', 'abcccbbc', 'aaccbacb', 'cacbcbcc', 'cbcaabac', 'caacacab', 'babbaacc', 'baacbcac', 'bbbcaaab', 'cbabacba', 'cbbccaac', 'aacabbac', 'baaacccb', 'ccbccaab', 'ccbbcbba', 'abcbbbab', 'bbbbccbb', 'baacbbab', 'acbababc', 'ccccaabb', 'aaccaccc', 'baabcabc', 'ccacaabc', 'ccbaaaac', 'acababcc', 'cccacbcb', 'babcaccb', 'aacbaabb', 'acacabcc', 'cacacaba', 'caabaaaa', 'acaabcab', 'ccbabbca', 'abacccbb', 'cacababb', 'cbcababa', 'acbccaab', 'cccbcaca', 'bccccbac', 'bcbbaaca', 'aacabaab', 'cacbaaca', 'ccbbacbb', 'bacabcbb', 'bbbcbbaa', 'acaccaba', 'caaaacbc', 'cacbcbca', 'bccabacb', 'ccbccaac', 'bcaaabcc', 'ccacccac', 'ccaccaab', 'baaaabba', 'bbbbcccb', 'bcbaccaa', 'acabbaaa', 'cccabccb', 'acccbbcb', 'bbacbaaa', 'babbaabb', 'aaccabab', 'babaabcb', 'cbbabcbc', 'aacababc', 'abaacbab', 'accacaba', 'bbacbabc', 'accacabb', 'cbbaccab', 'aacaabba', 'abbcccaa', 'cababcac', 'aaccabac', 'bbabbaab', 'ccaacaaa', 'cbcbaccb', 'abacbbaa', 'acacbbbc', 'bacacbba', 'cbbaabab', 'accaaabc', 'acaacaac', 'bbcaacca', 'ccbabaac', 'ccabbaab', 'bacbbaaa', 'cabacccc', 'bbabccba', 'abbbbbac', 'cbbaabbc', 'acacabab', 'baabcbcc', 'acacbbcb', 'caabcaba', 'bcacbaaa', 'cabaaaab', 'babcacac', 'bbcacbaa', 'acbbcaaa', 'bcaabbac', 'cbbcaaab', 'cabcbbcb', 'ccccbcac', 'babcbcab', 'bbcccaaa', 'ccabccbc', 'cbccbcbc', 'bcacaccb', 'caabcbbc', 'ccabcabb', 'abaaacca', 'abacaaab', 'bbcbcbac', 'caacccbb', 'bbbcbbcc', 'ccbcbbbc', 'bbababbc', 'acbabccc', 'abacbccc', 'ccaacbcc', 'abbabaca', 'aacbcaca', 'aacbaacb', 'caaacbca', 'acaaacbc', 'abccacaa', 'bcbcabaa', 'aaacccba', 'acaccaca', 'caabbacb', 'cbcbaaac', 'abbcbbbb', 'cbacaabb', 'cbcbbcbb', 'acaabaaa', 'bccaabaa', 'bcccbacb', 'abbcaacc', 'cacbaccb', 'acabccbb', 'aabcccaa', 'bbcabcaa', 'cbbaaacb', 'cabbccca', 'baaabacb', 'acaaccac', 'cbaababc', 'cbbcabcc', 'bbacabcb', 'bacbbcca', 'bcabcbaa', 'cacbacac', 'ccbbaccc', 'abbcbcbb', 'ccbcbaac', 'bcababcc', 'acaabbab', 'caabbabb', 'abaccccb', 'cacbcccc', 'bbacaaaa', 'acabacba', 'caacccac', 'cccbbaaa', 'abcbacca', 'aacbbcbc', 'bbacbcbc', 'caabcaaa', 'ccbabcac', 'bcccacbb', 'bccaabbb', 'bbbcbcac', 'acbaabaa', 'caacbccc', 'abbccaaa', 'cbcbaabb', 'ccbccbbc', 'aabacabc', 'caaabaaa', 'bbaccbbb', 'cbbcbcbb', 'ccbbbacc', 'bcaabbba', 'bbabbaaa', 'aabbcacc', 'cccbcacc', 'bbbcaaac', 'cbcaaacc', 'cacacaab', 'bbbcbcab', 'aabbabba', 'baabcbba', 'aababbbb', 'abaccbaa', 'bbcabcab', 'cbaaabca', 'acbbccab', 'bcabaccc', 'caabbbba', 'bcababbc', 'accabbaa', 'caacbcaa', 'ccbcacca', 'cbabaaaa', 'bbcbaaac', 'cbcbabca', 'baabbcba', 'bcacaabc', 'cbccbaaa', 'cbcbacba', 'bbbabaab', 'bcccaaab', 'bccbbaba', 'babcabba', 'acabaaac', 'caabbbbc', 'cbccabab', 'bbbcbcba', 'baacbbba', 'cbbbbccc', 'cbabcacc', 'acbbaaba', 'abccaccc', 'bacbbbba', 'cabccaca', 'babbbbbb', 'abccbbab', 'cacccbca', 'abcbbbcc', 'cbbbcacc', 'caabaaac', 'ccbcabbb', 'baabbcab', 'aacbbbbb', 'aacbcaab', 'ccbaaaab', 'bccbabac', 'bbabbbca', 'ccbabbbb', 'acccaaaa', 'cccbccba', 'ccabbcbb', 'ccccbbac', 'cbbcaacc', 'acabcbac', 'ccabacaa', 'bbaabcca', 'ccbcccaa', 'bacaaaba', 'abbcbbcb', 'bcbcbaab', 'baacbabc', 'bbaabbca', 'cbaccbaa', 'bbccbcbb', 'acababca', 'bbbabbbb', 'abcacacc', 'bacbcaba', 'ababcbac', 'acabcaac', 'acacacbb', 'cbbbbaba', 'bcbaaaac', 'acbccacc', 'acbbaaab', 'acccacaa', 'baaabaab', 'cbbacbba', 'acbbcbcb', 'cabcbcca', 'accccaac', 'aabccbbc', 'cabccaac', 'accaccaa', 'caacbaaa', 'cbabaabc', 'acbccbba', 'cbbbaabc', 'baaaabca', 'accccbbb', 'acacacaa', 'bcaccaab', 'ccccaccb', 'bccacabb', 'acbabcaa', 'accbcbca', 'cbababbc', 'bbaccbca', 'bbcbcacb', 'aabaccbb', 'acbbbbaa', 'aaaacaca', 'baabcaac', 'ccccbbba', 'accabbca', 'ccaabbcc', 'abbcbacc', 'ccaabacb', 'cabaaccb', 'caaacccc', 'bbcabbba', 'caccbcaa', 'cbacbabc', 'cacccaba', 'bccbbbba', 'cbbbabab', 'bcccabcb', 'abbbcaca', 'bcbabacc', 'ccaaabac', 'bbacaacc', 'abbababb', 'aabbaccb', 'bcccbbca', 'bbcaacaa', 'ccacacca', 'cacbacab', 'bcacbaab', 'bcbbaccc', 'bcaaaccc', 'bccacbcb', 'cbccbbcb', 'aaaaacbb', 'caacaccc', 'babbccbc', 'bbbccbab', 'bcaaaabc', 'cccccaac', 'abbcbccc', 'aacacbca', 'babcbaca', 'aacacbbc', 'babccaab', 'aabcaaaa', 'cbaaabba', 'bacbcbbb', 'ccaabbbb', 'bbaaacca', 'bcabbbcc', 'acccaaca', 'bcbbcacc', 'bcccccbc', 'bacccabc', 'bacacbaa', 'bccccaba', 'cbbcbcab', 'babccaca', 'bbbabbcb', 'caccbbaa', 'abbcaacb', 'bbaccccc', 'aabbbbca', 'aacbaccb', 'acacacab', 'abcaacbc', 'bbbabbaa', 'bbcacccb', 'bbcaacac', 'bbccbbbc', 'bbaaaccc', 'ccbccaaa', 'ccacaacc', 'bbccbbab', 'bcacccbb', 'cbbbbaaa', 'aabcbabb', 'bcacacab', 'aaabcbab', 'accaacaa', 'accbaacb', 'acacaacc', 'bcbbacac', 'cbcbcbcc', 'abccbbcb', 'cacabacb', 'aabbccbc', 'cbcaaabb', 'bbaabbcc', 'bacbcaca', 'abbcabbb', 'cccbacab', 'cbbcbccc', 'ccccbcba', 'aaaccccc', 'aacbbabc', 'cccccbaa', 'bccabcbb', 'bbbcccbb', 'ccccacac', 'abcbbcab', 'bbcaabaa', 'aabbccac', 'aacbaaab', 'abcccbac', 'aaaacaac', 'bcacbbcb', 'cabacacc', 'cbcbcabb', 'ccaabcac', 'bbcccacc', 'bbccbcaa', 'bbababbb', 'bbabcbac', 'bbabccac', 'cccbabca', 'bcabbcab', 'bccbcaba', 'cbcaabbc', 'cbcabccc', 'acbcbbaa', 'caabbbab', 'baacbaca', 'bbcaaabc', 'ccbaabbb', 'abbcbaac', 'bcbbbcbc', 'accbbbaa', 'babbcaaa', 'acaaccaa', 'caaccaac', 'ccacbbaa', 'aabbccbb', 'bcabccaa', 'bcbccbcb', 'aacbcbba', 'bcbcbabc', 'caabacba', 'acaccbcb', 'cbcbabaa', 'bccabaac', 'aabacaba', 'aaacbcbc', 'ccbabbcc', 'ababbbac', 'cacccaac', 'bbbaaaac', 'aabcccab', 'aaaaacba', 'acbaabcb', 'ababbcbb', 'baaabbbc', 'cbccaaca', 'cbacacba', 'caaacaab', 'aaaabbac', 'babbacab', 'cbccacac', 'bcccabbb', 'aaccacbc', 'caaaccac', 'bcbcccbc', 'abcbbbac', 'abcaacac', 'cbacabca', 'bbbcaabb', 'ccaaaaac', 'bcbcaaaa', 'caacabac', 'baccbbca', 'cacbbbaa', 'cbbccbba', 'baacccca', 'ccbcabac', 'abbbbbba', 'cacabbbb', 'bbccbbbb', 'aaaabcbc', 'acacabaa', 'bccbcaca', 'cbaacccc', 'abbbbacb', 'abacacba', 'acbcbcbc', 'ccbbaaca', 'caababcc', 'bbccbacc', 'aabbabcc', 'bacbbcba', 'babbccca', 'acccabbc', 'acbaccaa', 'aaaaccaa', 'bcbccbbb', 'aaacbbbc', 'bbccbbca', 'bababccb', 'ccbbbaca', 'aaacaacb', 'acbaccac', 'acabaccb', 'cabcabaa', 'aacaaccb', 'acbcabba', 'accbbbab', 'aabbcbba', 'ccacbccc', 'aacbbccb', 'caccbcba', 'cbaacacb', 'aaaccbac', 'accbcaaa']\n",
      "{4: 'a', 5: 'b'}\n",
      "['acaaabab', 'abacabba', 'baccabcc', 'aabaabbc', 'aabcabba', 'bbbbabac', 'babaabac', 'cabaabab', 'bbababcb', 'caaaabba', 'cbacabbc', 'ccacabca', 'bcbaabcb', 'ccccabca', 'ccbcabcc', 'bcbcabcc', 'caacabcc', 'babbabab', 'acacabbb', 'abbbabcb', 'caababac', 'aacaabcc', 'ccccabbc', 'bcbaabcc', 'abcaabaa', 'cbababba', 'ccaaabbc', 'acbaabbc', 'bcbcabab', 'acacabca', 'cabbabba', 'bcacabab', 'aacbabba', 'abababaa', 'ccababbb', 'acaaabcc', 'cbcaabca', 'bbccabcc', 'cccbabcc', 'abcaabbc', 'babcabaa', 'bcaaabcb', 'bbacabcc', 'cccbabba', 'cbccabcc', 'bcababba', 'cbbcabcb', 'bcaaabbc', 'bbcbabab', 'bbbaabbc', 'aaccabcb', 'baccabcb', 'cbbcabba', 'bbababac', 'baacabac', 'baababbb', 'acbbabac', 'bbbbabab', 'aaacabca', 'babcabca', 'baaaabac', 'aacbabbc', 'accaabca', 'ccbbabbc', 'cabbabac', 'abbaabca', 'abbcabbc', 'acbaabab', 'ccbcabaa', 'babaabbb', 'bcbbabca', 'bcbcabac', 'bbcaabba', 'abbcabcb', 'aaccabca', 'caaaabaa', 'abaaabab', 'cacaabba', 'caababbc', 'aaababaa', 'accaabac', 'cbbbabba', 'baababcc', 'bcaaabac', 'bbbaabba', 'cbbcabab', 'caccabcc', 'abbbabaa', 'cbababcc', 'acababcb', 'ccababbc', 'bcababac', 'aaaaabbb', 'aaacabaa', 'abaaabac', 'cabcabbc', 'abbaabab', 'bcababcb', 'cbaaabbb', 'bbcbabcc', 'acacabac', 'cbcbabba', 'ccaaabca', 'bbcaabcb', 'abccabaa', 'cbbbabcc', 'aacbabbb', 'bbbbabcb', 'bbccabac', 'acababac', 'caaaabca', 'ccbcabba', 'baaaabab', 'aaaaabab', 'acbaabca', 'abccabcb', 'ccaaabba', 'aabcabab', 'babbabba', 'bbbcabbc', 'bcababbb', 'acccabab', 'aacbabaa', 'abccabab', 'ccacabbc', 'abababab', 'accbabcc', 'cabaabcc', 'acbbabaa', 'ccababca', 'aaaaabca', 'cabbabcb', 'babbabcc', 'abacabbb', 'abcbabba', 'abcaabcb', 'acbcabbc', 'cbbcabaa', 'ccacabaa', 'ccbbabca', 'acaaabaa', 'abbbabbb', 'acbcabbb', 'baababca', 'acababba', 'abbaabcc', 'abaaabcb', 'caacabbc', 'cccbabaa', 'caaaabac', 'bacaabcb', 'acbbabca', 'abbbabab', 'aabaabcb', 'bccaabac', 'abacabcb', 'accbabba', 'accaabbc', 'baaaabbc', 'aaaaabbc', 'baacabab', 'accbabaa', 'babcabcc', 'ccbaabab', 'bcacabba', 'acccabcb', 'aaaaabcc', 'cabcabbb', 'babbabbc', 'aabaabcc', 'bccaabbc', 'baccabba', 'bbbbabbc', 'bccaabba', 'cbacabba', 'caaaabbc', 'bcacabca', 'baacabbb', 'acaaabbc', 'abacabbc', 'cbacabcb', 'abaaabbb', 'bbbaabaa', 'bbcbabac', 'ccbcabab', 'caababca', 'aabcabac', 'cacbabcb', 'aabaabac', 'cabaabba', 'cabbabbc', 'abababbb', 'caababba', 'bacaabbc', 'cbbcabbb', 'bacbabbc', 'ccababba', 'aabbabab', 'bcbbabac', 'accaabbb', 'aabcabbb', 'cccaabab', 'accaabcc', 'cbbaabbb', 'cbacabac', 'ccbcabcb', 'babcabbb', 'cabaabbb', 'bbaaabac', 'cabcabcb', 'abcbabac', 'acbbabcc', 'aaacabbc', 'acccabcc', 'bbacabca', 'aaacabab', 'bbcbabbb', 'bbbaabca', 'bcbaabba', 'cbcbabac', 'ccbbabab', 'acbaabba', 'cbababab', 'cbacabcc', 'ccacabac', 'bcaaabbb', 'cacbabca', 'bbbaabbb', 'bcccabab', 'cabaabca', 'cabaabaa', 'acccabca', 'aaccabbb', 'bacaabba', 'abacabaa', 'aaccabbc', 'ccbcabca', 'bbaaabaa', 'bbcbabcb', 'cbcbabbb', 'bbbcabab', 'abbcabca', 'bbababca', 'cbaaabab', 'bbaaabcc', 'ccccabaa', 'cabbabcc', 'aaacabbb', 'bcbaabaa', 'bbbbabcc', 'abbaabbc', 'ccbaabcb', 'bbbaabac', 'aaacabcb', 'abcbabbb', 'aabcabcb', 'cbbaabaa', 'accaabab', 'aaababbc', 'abbbabba', 'abcbabca', 'aabaabab', 'cccbabac', 'ccababcc', 'ccccabab', 'babbabac', 'bccbabbc', 'cbababca', 'aaaaabac', 'acbcabca', 'babbabcb', 'abccabbc', 'cabcabcc', 'acbcabaa', 'ccbaabcc', 'ccbbabbb', 'acbaabbb', 'ccbaabca', 'aacaabbc', 'bcababca', 'abacabca', 'caccabac', 'cbaaabaa', 'bcbaabbb', 'accaabcb', 'aaababab', 'bccbabaa', 'cbbaabcc', 'bbaaabca', 'ccababac', 'baababbc', 'abcaabac', 'acacabbc', 'abacabab', 'bcacabaa', 'bbacabbb', 'bccbabcc', 'aaababac', 'bbbcabca', 'bcccabca', 'abababca', 'abcbabaa', 'aaacabcc', 'cbcbabcb', 'bacbabcc', 'bccbabcb', 'cbbbabbb', 'acbcabcc', 'bcbcabca', 'caababaa', 'cbbaabcb', 'babcabab', 'aacbabac', 'ccababcb', 'abaaabba', 'abcaabbb', 'abbcabcc', 'bcbcabcb', 'bbcbabba', 'ccbbabcc', 'cbbaabac', 'bbbcabbb', 'caacabba', 'abbbabca', 'bcbbabbb', 'baccabbb', 'babbabca', 'baccabac', 'ccbcabbc', 'acaaabba', 'cbccabbc', 'bbababba', 'cbcaabba', 'abbbabac', 'cbccabac', 'cbbaabca', 'bbbaabcb', 'caccabaa', 'bbbbabca', 'cbcaabbb', 'cacaabac', 'bcbbabab', 'aabbabac', 'cacbabcc', 'aabcabbc', 'bbababcc', 'bbcaabbc', 'abababcc', 'aaababcc', 'abcaabca', 'acccabbb', 'abababcb', 'ccccabcc', 'bcccabcc', 'acababbc', 'cbcbabcc', 'aacaabab', 'cbbbabbc', 'bcbbabaa', 'aaababba', 'acababbb', 'cacbabbc', 'bbccabbc', 'bbbbabbb', 'ccbbabac', 'bbcbabaa', 'acaaabac', 'babcabac', 'cacaabca', 'bbcaabca', 'baaaabcc', 'baababcb', 'ccbaabba', 'bbbbabba', 'aacaabcb', 'bbaaabbc', 'bbcaabab', 'abccabcc', 'aabaabaa', 'cabaabac', 'bcaaabab', 'cccaabbb', 'baccabab', 'bacaabbb', 'bacaabaa', 'ccaaabcc', 'cbcbabbc', 'bcccabaa', 'baababba', 'aaababcb', 'bbbcabcc', 'bcbcabba', 'bcbaabab', 'acbaabcc', 'babaabba', 'aabaabbb', 'cabaabcb', 'ccacabba', 'caccabca', 'ccacabab', 'cccaabba', 'cbbaabba', 'cbcaabac', 'acababcc', 'acacabcc', 'bcaaabcc', 'baaaabba', 'aaccabab', 'babaabcb', 'aacaabba', 'aaccabac', 'cbbaabab', 'cbbaabbc', 'acacabab', 'bbababbc', 'bcbcabaa', 'bccaabaa', 'cbbcabcc', 'bbacabcb', 'bcababcc', 'bccaabbb', 'acbaabaa', 'aabbabba', 'cbaaabca', 'bcababbc', 'cbcbabca', 'babcabba', 'cbccabab', 'ccbcabbb', 'bccbabac', 'acababca', 'baaaabca', 'cbababbc', 'cbbbabab', 'bcccabcb', 'ccaaabac', 'cbaaabba', 'abbcabbb', 'bbcaabaa', 'bbababbb', 'cccbabca', 'cbcaabbc', 'ccbaabbb', 'cbcbabaa', 'acbaabcb', 'bcccabbb', 'cbacabca', 'caacabac', 'ccbcabac', 'acacabaa', 'caababcc', 'aabbabcc', 'acccabbc', 'cabcabaa', 'acbcabba']\n"
     ],
     "output_type": "stream"
    }
   ],
   "source": [
    "from random import choice\n",
    "from Task03 import removeDuplicates\n",
    "\n",
    "\n",
    "def generateString(n):\n",
    "    letters = ('a', 'b', 'c')\n",
    "    return \"\".join(choice(letters) for i in range(n))\n",
    "\n",
    "\n",
    "def generateList(n):\n",
    "    return [generateString(n) for i in range(pow(3, n))]\n",
    "\n",
    "\n",
    "def getDictionaryOfString(s):\n",
    "    d = {}\n",
    "    for i in range(len(s)):\n",
    "        if s[i] != '*':\n",
    "            d[i] = s[i]\n",
    "    return d\n",
    "\n",
    "\n",
    "def getSegments(l, p):\n",
    "    d = getDictionaryOfString(p)\n",
    "    segments = []\n",
    "    print(d)\n",
    "    for i in range(len(l)):\n",
    "        S = getDictionaryOfString(l[i])\n",
    "        if all(item in S.items() for item in d.items()):\n",
    "            segments.append(l[i])\n",
    "    return segments\n",
    "\n",
    "\n",
    "def start(n):\n",
    "    l = removeDuplicates(generateList(n))\n",
    "    print(len(l), l)\n",
    "\n",
    "    pattern = input()\n",
    "    while len(pattern) != n:\n",
    "        print('Pattern need to have ', n, ' symbols')\n",
    "        pattern = input()\n",
    "    seg = getSegments(l, pattern)\n",
    "    print(seg)\n",
    "\n",
    "\n",
    "start(8)\n"
   ]
  },
  {
   "cell_type": "markdown",
   "metadata": {},
   "source": [
    "## Zadanie 8 _(10pt)_\n",
    "\n",
    "Napisz program, który konwerteruje liczby rzymskie na liczby arabskie. Do zapisu liczb rzymskich używa\n",
    "się 7 liter: `I=1`, `V=5`, `X=10`, `L=50`, `C=100`, `D=500`, `M=1000`. Opis algorytmu zamiany z i na system rzymski można znaleźć np. [tutaj](http://www.algorytm.org/algorytmy-arytmetyczne/zamiana-z-i-na-system-rzymski.html)"
   ]
  },
  {
   "cell_type": "code",
   "execution_count": null,
   "metadata": {
    "pycharm": {
     "is_executing": false
    }
   },
   "outputs": [],
   "source": [
    "A = [1000, 500, 100, 50, 10, 5, 1]\n",
    "R = ['M', 'D', 'C', 'L', 'X', 'V', 'I']\n",
    "\n",
    "\n",
    "def romeToArab(num):\n",
    "    i = 0\n",
    "    j = 0\n",
    "    result = 0\n",
    "    while i < len(A) and j < len(num):\n",
    "        if num[j] == R[i]:\n",
    "            result += A[i]\n",
    "            j += 1\n",
    "        elif i % 2 == 0 and i < len(A) - 2 and j < len(num) - 1 \\\n",
    "                and num[j] == R[i + 2] and num[j + 1] == R[i]:\n",
    "            result += A[i] - A[i + 2]\n",
    "            j += 2\n",
    "            i += 1\n",
    "        elif i % 2 == 1 and i < len(A) - 1 and j < len(num) - 1 \\\n",
    "                and num[j] == R[i + 1] and num[j + 1] == R[i]:\n",
    "            result += A[i] - A[i + 1]\n",
    "            j += 2\n",
    "            i += 1\n",
    "        else:\n",
    "            i += 1\n",
    "    print(result)\n",
    "    return result\n",
    "\n",
    "\n",
    "def arabToRome(num):\n",
    "    result = []\n",
    "    i = 0\n",
    "    while num > 0 and i < len(A):\n",
    "        if num >= A[i]:\n",
    "            num -= A[i]\n",
    "            result.append(R[i])\n",
    "        elif i % 2 == 0 and i < len(A) - 2 and \\\n",
    "                A[i + 2] != A[i] - A[i + 2] and (num >= A[i] - A[i + 2]):\n",
    "            result.append(R[i + 2])\n",
    "            result.append(R[i])\n",
    "            num -= A[i] - A[i + 2]\n",
    "            i += 1\n",
    "        elif i % 2 == 1 and i < len(A) - 1 and \\\n",
    "                A[i + 1] != A[i] - A[i + 1] and (num >= A[i] - A[i + 1]):\n",
    "            result.append(R[i + 1])\n",
    "            result.append(R[i])\n",
    "            num -= A[i] - A[i + 1]\n",
    "            i += 1\n",
    "        else:\n",
    "            i += 1\n",
    "    print(''.join(result))\n",
    "    return ''.join(result)\n",
    "\n",
    "\n",
    "def converter(s=input(\"Input : \")):\n",
    "    try:\n",
    "        val = int(s)\n",
    "        arabToRome(val)\n",
    "    except ValueError:\n",
    "        try:\n",
    "            val = str(s)\n",
    "            romeToArab(val)\n",
    "        except ValueError:\n",
    "            print('String Error')\n",
    "\n",
    "\n",
    "converter()\n",
    "\n",
    "\n"
   ]
  },
  {
   "cell_type": "markdown",
   "metadata": {},
   "source": [
    "## Zadanie 9* _(5pt)_\n",
    "\n",
    "Napisz program kalkulator, który pobiera wprowadzone wartości oraz funkcje z klawiatury następnie podaje wynik. W przypadku błędnych danych zgłasza błąd.\n",
    "\n",
    "Przykładowa sesja:\n",
    "```\n",
    "    Kalkulator\n",
    "    [1]: 2+5*10\n",
    "        52\n",
    "    [2]: sin(0.5)+cos(0.3)\n",
    "        1.434762027729809\n",
    "    [3]: 2^100\n",
    "        1267650600228229401496703205376\n",
    "```\n",
    "\n",
    "Przykładowy kod pobierania danych od użytkownika:\n",
    "\n",
    "```\n",
    "    x = input('Podaj x = ')\n",
    "```"
   ]
  },
  {
   "cell_type": "code",
   "execution_count": null,
   "metadata": {
    "pycharm": {
     "is_executing": false
    }
   },
   "outputs": [],
   "source": []
  },
  {
   "cell_type": "markdown",
   "metadata": {},
   "source": [
    "\n",
    "## Zadanie 10* _(10pt)_\n",
    "\n",
    "Napisz program, który rysuje na ekranie w trybie znakowym wykres funkcji zmiennej $x$. Wskazówka: utwórz  ,,tablicę dwuwymiarową'' o wymiarach 80x24 i narysuj wykres w tej tablicy. Następnie wynik wyświetl na ekranie.\n",
    "\n",
    "```\n",
    "        Podaj funkcje f(x) = sin(x)\n",
    "        Podaj początek przedziału a = -pi\n",
    "        Podaj koniec przedziału b = pi\n",
    "                                                |\n",
    "                                                |\n",
    "                                                |              ***********\n",
    "                                                |           ***           ***\n",
    "                                                |         **                 **\n",
    "                                                |        *                     *\n",
    "                                                |      **                       **\n",
    "                                                |     *                           *\n",
    "                                                |   **                             **\n",
    "                                                |  *                                 *\n",
    "                                                | *                                   *\n",
    "                                                |*                                     *\n",
    "        ----------------------------------------|---------------------------------------\n",
    "          *                                   * |\n",
    "           *                                 *  |\n",
    "            **                             **   |\n",
    "              *                           *     |\n",
    "               **                       **      |\n",
    "                 *                     *        |\n",
    "                  **                 **         |\n",
    "                    ***           ***           |\n",
    "                       ***** *****              |\n",
    "                            *                   |\n",
    "                                                |\n",
    "```"
   ]
  },
  {
   "cell_type": "code",
   "execution_count": null,
   "metadata": {
    "pycharm": {
     "is_executing": false
    }
   },
   "outputs": [],
   "source": []
  }
 ],
 "metadata": {
  "kernelspec": {
   "name": "python2",
   "language": "python",
   "display_name": "Python 2"
  },
  "language_info": {
   "codemirror_mode": {
    "name": "ipython",
    "version": 3
   },
   "file_extension": ".py",
   "mimetype": "text/x-python",
   "name": "python",
   "nbconvert_exporter": "python",
   "pygments_lexer": "ipython3",
   "version": "3.7.3"
  },
  "pycharm": {
   "stem_cell": {
    "cell_type": "raw",
    "source": [],
    "metadata": {
     "collapsed": false
    }
   }
  }
 },
 "nbformat": 4,
 "nbformat_minor": 2
}